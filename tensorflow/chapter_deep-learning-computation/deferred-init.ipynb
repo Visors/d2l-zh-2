{
  "cells": [
    {
      "cell_type": "markdown",
      "metadata": {
        "id": "view-in-github",
        "colab_type": "text"
      },
      "source": [
        "<a href=\"https://colab.research.google.com/github/Visors/d2l-zh-2/blob/main/tensorflow/chapter_deep-learning-computation/deferred-init.ipynb\" target=\"_parent\"><img src=\"https://colab.research.google.com/assets/colab-badge.svg\" alt=\"Open In Colab\"/></a>"
      ]
    },
    {
      "cell_type": "markdown",
      "id": "dea5f58e",
      "metadata": {
        "origin_pos": 0,
        "id": "dea5f58e"
      },
      "source": [
        "# 延后初始化\n",
        ":label:`sec_deferred_init`\n",
        "\n",
        "到目前为止，我们忽略了建立网络时需要做的以下这些事情：\n",
        "\n",
        "* 我们定义了网络架构，但没有指定输入维度。\n",
        "* 我们添加层时没有指定前一层的输出维度。\n",
        "* 我们在初始化参数时，甚至没有足够的信息来确定模型应该包含多少参数。\n",
        "\n",
        "有些读者可能会对我们的代码能运行感到惊讶。\n",
        "毕竟，深度学习框架无法判断网络的输入维度是什么。\n",
        "这里的诀窍是框架的*延后初始化*（defers initialization），\n",
        "即直到数据第一次通过模型传递时，框架才会动态地推断出每个层的大小。\n",
        "\n",
        "在以后，当使用卷积神经网络时，\n",
        "由于输入维度（即图像的分辨率）将影响每个后续层的维数，\n",
        "有了该技术将更加方便。\n",
        "现在我们在编写代码时无须知道维度是什么就可以设置参数，\n",
        "这种能力可以大大简化定义和修改模型的任务。\n",
        "接下来，我们将更深入地研究初始化机制。\n",
        "\n",
        "## 实例化网络\n",
        "\n",
        "首先，让我们实例化一个多层感知机。\n"
      ]
    },
    {
      "cell_type": "code",
      "execution_count": 1,
      "id": "13e2840b",
      "metadata": {
        "execution": {
          "iopub.execute_input": "2023-08-18T07:27:26.266152Z",
          "iopub.status.busy": "2023-08-18T07:27:26.265339Z",
          "iopub.status.idle": "2023-08-18T07:27:29.662120Z",
          "shell.execute_reply": "2023-08-18T07:27:29.661181Z"
        },
        "origin_pos": 2,
        "tab": [
          "tensorflow"
        ],
        "id": "13e2840b"
      },
      "outputs": [],
      "source": [
        "import tensorflow as tf\n",
        "\n",
        "net = tf.keras.models.Sequential([\n",
        "    tf.keras.layers.Dense(256, activation=tf.nn.relu),\n",
        "    tf.keras.layers.Dense(10),\n",
        "])"
      ]
    },
    {
      "cell_type": "markdown",
      "id": "54eb9956",
      "metadata": {
        "origin_pos": 3,
        "id": "54eb9956"
      },
      "source": [
        "此时，因为输入维数是未知的，所以网络不可能知道输入层权重的维数。\n",
        "因此，框架尚未初始化任何参数，我们通过尝试访问以下参数进行确认。\n"
      ]
    },
    {
      "cell_type": "code",
      "execution_count": 2,
      "id": "b7d177ae",
      "metadata": {
        "execution": {
          "iopub.execute_input": "2023-08-18T07:27:29.666569Z",
          "iopub.status.busy": "2023-08-18T07:27:29.665851Z",
          "iopub.status.idle": "2023-08-18T07:27:29.677497Z",
          "shell.execute_reply": "2023-08-18T07:27:29.676723Z"
        },
        "origin_pos": 5,
        "tab": [
          "tensorflow"
        ],
        "id": "b7d177ae",
        "outputId": "6425a312-784f-49d4-a003-2b865af45cd1",
        "colab": {
          "base_uri": "https://localhost:8080/"
        }
      },
      "outputs": [
        {
          "output_type": "execute_result",
          "data": {
            "text/plain": [
              "[[], []]"
            ]
          },
          "metadata": {},
          "execution_count": 2
        }
      ],
      "source": [
        "[net.layers[i].get_weights() for i in range(len(net.layers))]"
      ]
    },
    {
      "cell_type": "markdown",
      "id": "3b79b016",
      "metadata": {
        "origin_pos": 7,
        "tab": [
          "tensorflow"
        ],
        "id": "3b79b016"
      },
      "source": [
        "请注意，每个层对象都存在，但权重为空。\n",
        "使用`net.get_weights()`将抛出一个错误，因为权重尚未初始化。\n"
      ]
    },
    {
      "cell_type": "markdown",
      "id": "e0b1c82a",
      "metadata": {
        "origin_pos": 10,
        "id": "e0b1c82a"
      },
      "source": [
        "接下来让我们将数据通过网络，最终使框架初始化参数。\n"
      ]
    },
    {
      "cell_type": "code",
      "execution_count": 3,
      "id": "86b2536c",
      "metadata": {
        "execution": {
          "iopub.execute_input": "2023-08-18T07:27:29.681280Z",
          "iopub.status.busy": "2023-08-18T07:27:29.680770Z",
          "iopub.status.idle": "2023-08-18T07:27:29.731521Z",
          "shell.execute_reply": "2023-08-18T07:27:29.730735Z"
        },
        "origin_pos": 12,
        "tab": [
          "tensorflow"
        ],
        "id": "86b2536c",
        "outputId": "2866e656-92d5-4806-ee6e-ae0ee517cc08",
        "colab": {
          "base_uri": "https://localhost:8080/"
        }
      },
      "outputs": [
        {
          "output_type": "execute_result",
          "data": {
            "text/plain": [
              "[(20, 256), (256,), (256, 10), (10,)]"
            ]
          },
          "metadata": {},
          "execution_count": 3
        }
      ],
      "source": [
        "X = tf.random.uniform((2, 20))\n",
        "net(X)\n",
        "[w.shape for w in net.get_weights()]"
      ]
    },
    {
      "cell_type": "markdown",
      "id": "d1ac04f5",
      "metadata": {
        "origin_pos": 13,
        "id": "d1ac04f5"
      },
      "source": [
        "一旦我们知道输入维数是20，框架可以通过代入值20来识别第一层权重矩阵的形状。\n",
        "识别出第一层的形状后，框架处理第二层，依此类推，直到所有形状都已知为止。\n",
        "注意，在这种情况下，只有第一层需要延迟初始化，但是框架仍是按顺序初始化的。\n",
        "等到知道了所有的参数形状，框架就可以初始化参数。\n",
        "\n",
        "## 小结\n",
        "\n",
        "* 延后初始化使框架能够自动推断参数形状，使修改模型架构变得容易，避免了一些常见的错误。\n",
        "* 我们可以通过模型传递数据，使框架最终初始化参数。\n",
        "\n",
        "## 练习\n",
        "\n",
        "1. 如果指定了第一层的输入尺寸，但没有指定后续层的尺寸，会发生什么？是否立即进行初始化？\n",
        "1. 如果指定了不匹配的维度会发生什么？\n",
        "1. 如果输入具有不同的维度，需要做什么？提示：查看参数绑定的相关内容。\n"
      ]
    },
    {
      "cell_type": "code",
      "source": [
        "# 练习 1 会立即初始化\n",
        "net = tf.keras.models.Sequential([\n",
        "    tf.keras.layers.Dense(256, activation=tf.nn.relu, input_shape=(40,)),\n",
        "    tf.keras.layers.Dense(10),\n",
        "])\n",
        "[net.layers[i].get_weights() for i in range(len(net.layers))]\n",
        "[w.shape for w in net.get_weights()]"
      ],
      "metadata": {
        "id": "fI-GPisbQY9Y",
        "outputId": "768ab5a4-2fb8-4678-bad5-6f224a57fb56",
        "colab": {
          "base_uri": "https://localhost:8080/"
        }
      },
      "id": "fI-GPisbQY9Y",
      "execution_count": 6,
      "outputs": [
        {
          "output_type": "execute_result",
          "data": {
            "text/plain": [
              "[(40, 256), (256,), (256, 10), (10,)]"
            ]
          },
          "metadata": {},
          "execution_count": 6
        }
      ]
    },
    {
      "cell_type": "code",
      "source": [
        "# 练习 2 ValueError\n",
        "net = tf.keras.models.Sequential([\n",
        "    tf.keras.layers.Dense(256, activation=tf.nn.relu, input_shape=(40,)),\n",
        "    tf.keras.layers.Dense(10),\n",
        "])\n",
        "X = tf.random.uniform((2, 20))\n",
        "net(X)\n",
        "[net.layers[i].get_weights() for i in range(len(net.layers))]\n",
        "[w.shape for w in net.get_weights()]"
      ],
      "metadata": {
        "id": "Rci1I2FmQ4wQ",
        "outputId": "6909fc23-ab57-44fa-ff0b-634ecf92f153",
        "colab": {
          "base_uri": "https://localhost:8080/",
          "height": 469
        }
      },
      "id": "Rci1I2FmQ4wQ",
      "execution_count": 7,
      "outputs": [
        {
          "output_type": "error",
          "ename": "ValueError",
          "evalue": "Exception encountered when calling Sequential.call().\n\n\u001b[1mInput 0 of layer \"dense_8\" is incompatible with the layer: expected axis -1 of input shape to have value 40, but received input with shape (2, 20)\u001b[0m\n\nArguments received by Sequential.call():\n  • inputs=tf.Tensor(shape=(2, 20), dtype=float32)\n  • training=None\n  • mask=None",
          "traceback": [
            "\u001b[0;31m---------------------------------------------------------------------------\u001b[0m",
            "\u001b[0;31mValueError\u001b[0m                                Traceback (most recent call last)",
            "\u001b[0;32m<ipython-input-7-52b5e81b466c>\u001b[0m in \u001b[0;36m<cell line: 0>\u001b[0;34m()\u001b[0m\n\u001b[1;32m      5\u001b[0m ])\n\u001b[1;32m      6\u001b[0m \u001b[0mX\u001b[0m \u001b[0;34m=\u001b[0m \u001b[0mtf\u001b[0m\u001b[0;34m.\u001b[0m\u001b[0mrandom\u001b[0m\u001b[0;34m.\u001b[0m\u001b[0muniform\u001b[0m\u001b[0;34m(\u001b[0m\u001b[0;34m(\u001b[0m\u001b[0;36m2\u001b[0m\u001b[0;34m,\u001b[0m \u001b[0;36m20\u001b[0m\u001b[0;34m)\u001b[0m\u001b[0;34m)\u001b[0m\u001b[0;34m\u001b[0m\u001b[0;34m\u001b[0m\u001b[0m\n\u001b[0;32m----> 7\u001b[0;31m \u001b[0mnet\u001b[0m\u001b[0;34m(\u001b[0m\u001b[0mX\u001b[0m\u001b[0;34m)\u001b[0m\u001b[0;34m\u001b[0m\u001b[0;34m\u001b[0m\u001b[0m\n\u001b[0m\u001b[1;32m      8\u001b[0m \u001b[0;34m[\u001b[0m\u001b[0mnet\u001b[0m\u001b[0;34m.\u001b[0m\u001b[0mlayers\u001b[0m\u001b[0;34m[\u001b[0m\u001b[0mi\u001b[0m\u001b[0;34m]\u001b[0m\u001b[0;34m.\u001b[0m\u001b[0mget_weights\u001b[0m\u001b[0;34m(\u001b[0m\u001b[0;34m)\u001b[0m \u001b[0;32mfor\u001b[0m \u001b[0mi\u001b[0m \u001b[0;32min\u001b[0m \u001b[0mrange\u001b[0m\u001b[0;34m(\u001b[0m\u001b[0mlen\u001b[0m\u001b[0;34m(\u001b[0m\u001b[0mnet\u001b[0m\u001b[0;34m.\u001b[0m\u001b[0mlayers\u001b[0m\u001b[0;34m)\u001b[0m\u001b[0;34m)\u001b[0m\u001b[0;34m]\u001b[0m\u001b[0;34m\u001b[0m\u001b[0;34m\u001b[0m\u001b[0m\n\u001b[1;32m      9\u001b[0m \u001b[0;34m[\u001b[0m\u001b[0mw\u001b[0m\u001b[0;34m.\u001b[0m\u001b[0mshape\u001b[0m \u001b[0;32mfor\u001b[0m \u001b[0mw\u001b[0m \u001b[0;32min\u001b[0m \u001b[0mnet\u001b[0m\u001b[0;34m.\u001b[0m\u001b[0mget_weights\u001b[0m\u001b[0;34m(\u001b[0m\u001b[0;34m)\u001b[0m\u001b[0;34m]\u001b[0m\u001b[0;34m\u001b[0m\u001b[0;34m\u001b[0m\u001b[0m\n",
            "\u001b[0;32m/usr/local/lib/python3.11/dist-packages/keras/src/utils/traceback_utils.py\u001b[0m in \u001b[0;36merror_handler\u001b[0;34m(*args, **kwargs)\u001b[0m\n\u001b[1;32m    120\u001b[0m             \u001b[0;31m# To get the full stack trace, call:\u001b[0m\u001b[0;34m\u001b[0m\u001b[0;34m\u001b[0m\u001b[0m\n\u001b[1;32m    121\u001b[0m             \u001b[0;31m# `keras.config.disable_traceback_filtering()`\u001b[0m\u001b[0;34m\u001b[0m\u001b[0;34m\u001b[0m\u001b[0m\n\u001b[0;32m--> 122\u001b[0;31m             \u001b[0;32mraise\u001b[0m \u001b[0me\u001b[0m\u001b[0;34m.\u001b[0m\u001b[0mwith_traceback\u001b[0m\u001b[0;34m(\u001b[0m\u001b[0mfiltered_tb\u001b[0m\u001b[0;34m)\u001b[0m \u001b[0;32mfrom\u001b[0m \u001b[0;32mNone\u001b[0m\u001b[0;34m\u001b[0m\u001b[0;34m\u001b[0m\u001b[0m\n\u001b[0m\u001b[1;32m    123\u001b[0m         \u001b[0;32mfinally\u001b[0m\u001b[0;34m:\u001b[0m\u001b[0;34m\u001b[0m\u001b[0;34m\u001b[0m\u001b[0m\n\u001b[1;32m    124\u001b[0m             \u001b[0;32mdel\u001b[0m \u001b[0mfiltered_tb\u001b[0m\u001b[0;34m\u001b[0m\u001b[0;34m\u001b[0m\u001b[0m\n",
            "\u001b[0;32m/usr/local/lib/python3.11/dist-packages/keras/src/layers/input_spec.py\u001b[0m in \u001b[0;36massert_input_compatibility\u001b[0;34m(input_spec, inputs, layer_name)\u001b[0m\n\u001b[1;32m    225\u001b[0m                     \u001b[0;32mNone\u001b[0m\u001b[0;34m,\u001b[0m\u001b[0;34m\u001b[0m\u001b[0;34m\u001b[0m\u001b[0m\n\u001b[1;32m    226\u001b[0m                 }:\n\u001b[0;32m--> 227\u001b[0;31m                     raise ValueError(\n\u001b[0m\u001b[1;32m    228\u001b[0m                         \u001b[0;34mf'Input {input_index} of layer \"{layer_name}\" is '\u001b[0m\u001b[0;34m\u001b[0m\u001b[0;34m\u001b[0m\u001b[0m\n\u001b[1;32m    229\u001b[0m                         \u001b[0;34mf\"incompatible with the layer: expected axis {axis} \"\u001b[0m\u001b[0;34m\u001b[0m\u001b[0;34m\u001b[0m\u001b[0m\n",
            "\u001b[0;31mValueError\u001b[0m: Exception encountered when calling Sequential.call().\n\n\u001b[1mInput 0 of layer \"dense_8\" is incompatible with the layer: expected axis -1 of input shape to have value 40, but received input with shape (2, 20)\u001b[0m\n\nArguments received by Sequential.call():\n  • inputs=tf.Tensor(shape=(2, 20), dtype=float32)\n  • training=None\n  • mask=None"
          ]
        }
      ]
    },
    {
      "cell_type": "code",
      "source": [
        "# 练习 3 没理解问的是什么 = ="
      ],
      "metadata": {
        "id": "51q6AKBwRFNk"
      },
      "id": "51q6AKBwRFNk",
      "execution_count": null,
      "outputs": []
    },
    {
      "cell_type": "markdown",
      "id": "9bdef638",
      "metadata": {
        "origin_pos": 16,
        "tab": [
          "tensorflow"
        ],
        "id": "9bdef638"
      },
      "source": [
        "[Discussions](https://discuss.d2l.ai/t/1833)\n"
      ]
    }
  ],
  "metadata": {
    "kernelspec": {
      "display_name": "Python 3",
      "name": "python3"
    },
    "language_info": {
      "name": "python"
    },
    "required_libs": [],
    "colab": {
      "provenance": [],
      "include_colab_link": true
    }
  },
  "nbformat": 4,
  "nbformat_minor": 5
}