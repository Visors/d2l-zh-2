{
  "cells": [
    {
      "cell_type": "markdown",
      "metadata": {
        "id": "view-in-github",
        "colab_type": "text"
      },
      "source": [
        "<a href=\"https://colab.research.google.com/github/Visors/d2l-zh-2/blob/main/tensorflow/chapter_multilayer-perceptrons/kaggle-house-price.ipynb\" target=\"_parent\"><img src=\"https://colab.research.google.com/assets/colab-badge.svg\" alt=\"Open In Colab\"/></a>"
      ]
    },
    {
      "cell_type": "markdown",
      "id": "4ef9f8bc",
      "metadata": {
        "id": "4ef9f8bc"
      },
      "source": [
        "The following additional libraries are needed to run this\n",
        "notebook. Note that running on Colab is experimental, please report a Github\n",
        "issue if you have any problem."
      ]
    },
    {
      "cell_type": "code",
      "source": [
        "from google.colab import drive\n",
        "drive.mount('/content/drive')\n",
        "import sys\n",
        "sys.path.append(\"/content/drive/MyDrive/pypkg\")\n",
        "print(sys.path)"
      ],
      "metadata": {
        "id": "MdhooQrxCk3I",
        "outputId": "889e5773-949a-4bae-9a96-2e10162acbee",
        "colab": {
          "base_uri": "https://localhost:8080/"
        }
      },
      "id": "MdhooQrxCk3I",
      "execution_count": 1,
      "outputs": [
        {
          "output_type": "stream",
          "name": "stdout",
          "text": [
            "Mounted at /content/drive\n",
            "['/content', '/env/python', '/usr/lib/python311.zip', '/usr/lib/python3.11', '/usr/lib/python3.11/lib-dynload', '', '/usr/local/lib/python3.11/dist-packages', '/usr/lib/python3/dist-packages', '/usr/local/lib/python3.11/dist-packages/IPython/extensions', '/root/.ipython', '/content/drive/MyDrive/pypkg']\n"
          ]
        }
      ]
    },
    {
      "cell_type": "code",
      "execution_count": null,
      "id": "19db660f",
      "metadata": {
        "id": "19db660f"
      },
      "outputs": [],
      "source": [
        "# !pip install git+https://github.com/d2l-ai/d2l-zh@release  # installing d2l\n"
      ]
    },
    {
      "cell_type": "markdown",
      "id": "be9de039",
      "metadata": {
        "origin_pos": 0,
        "id": "be9de039"
      },
      "source": [
        "# 实战Kaggle比赛：预测房价\n",
        ":label:`sec_kaggle_house`\n",
        "\n",
        "之前几节我们学习了一些训练深度网络的基本工具和网络正则化的技术（如权重衰减、暂退法等）。\n",
        "本节我们将通过Kaggle比赛，将所学知识付诸实践。\n",
        "Kaggle的房价预测比赛是一个很好的起点。\n",
        "此数据集由Bart de Cock于2011年收集 :cite:`De-Cock.2011`，\n",
        "涵盖了2006-2010年期间亚利桑那州埃姆斯市的房价。\n",
        "这个数据集是相当通用的，不会需要使用复杂模型架构。\n",
        "它比哈里森和鲁宾菲尔德的[波士顿房价](https://archive.ics.uci.edu/ml/machine-learning-databases/housing/housing.names)\n",
        "数据集要大得多，也有更多的特征。\n",
        "\n",
        "本节我们将详细介绍数据预处理、模型设计和超参数选择。\n",
        "通过亲身实践，你将获得一手经验，这些经验将有益数据科学家的职业成长。\n",
        "\n",
        "## 下载和缓存数据集\n",
        "\n",
        "在整本书中，我们将下载不同的数据集，并训练和测试模型。\n",
        "这里我们(**实现几个函数来方便下载数据**)。\n",
        "首先，我们建立字典`DATA_HUB`，\n",
        "它可以将数据集名称的字符串映射到数据集相关的二元组上，\n",
        "这个二元组包含数据集的url和验证文件完整性的sha-1密钥。\n",
        "所有类似的数据集都托管在地址为`DATA_URL`的站点上。\n"
      ]
    },
    {
      "cell_type": "code",
      "execution_count": 2,
      "id": "aaa90fc0",
      "metadata": {
        "execution": {
          "iopub.execute_input": "2023-08-18T07:28:26.661889Z",
          "iopub.status.busy": "2023-08-18T07:28:26.661279Z",
          "iopub.status.idle": "2023-08-18T07:28:26.720749Z",
          "shell.execute_reply": "2023-08-18T07:28:26.719898Z"
        },
        "origin_pos": 1,
        "tab": [
          "tensorflow"
        ],
        "id": "aaa90fc0"
      },
      "outputs": [],
      "source": [
        "import hashlib\n",
        "import os\n",
        "import tarfile\n",
        "import zipfile\n",
        "import requests\n",
        "\n",
        "#@save\n",
        "DATA_HUB = dict()\n",
        "DATA_URL = 'http://d2l-data.s3-accelerate.amazonaws.com/'"
      ]
    },
    {
      "cell_type": "markdown",
      "id": "7485f8c7",
      "metadata": {
        "origin_pos": 2,
        "id": "7485f8c7"
      },
      "source": [
        "下面的`download`函数用来下载数据集，\n",
        "将数据集缓存在本地目录（默认情况下为`../data`）中，\n",
        "并返回下载文件的名称。\n",
        "如果缓存目录中已经存在此数据集文件，并且其sha-1与存储在`DATA_HUB`中的相匹配，\n",
        "我们将使用缓存的文件，以避免重复的下载。\n"
      ]
    },
    {
      "cell_type": "code",
      "execution_count": 3,
      "id": "ea409e92",
      "metadata": {
        "execution": {
          "iopub.execute_input": "2023-08-18T07:28:26.724868Z",
          "iopub.status.busy": "2023-08-18T07:28:26.724328Z",
          "iopub.status.idle": "2023-08-18T07:28:26.731636Z",
          "shell.execute_reply": "2023-08-18T07:28:26.730867Z"
        },
        "origin_pos": 3,
        "tab": [
          "tensorflow"
        ],
        "id": "ea409e92"
      },
      "outputs": [],
      "source": [
        "def download(name, cache_dir=os.path.join('..', 'data')):  #@save\n",
        "    \"\"\"下载一个DATA_HUB中的文件，返回本地文件名\"\"\"\n",
        "    assert name in DATA_HUB, f\"{name} 不存在于 {DATA_HUB}\"\n",
        "    url, sha1_hash = DATA_HUB[name]\n",
        "    os.makedirs(cache_dir, exist_ok=True)\n",
        "    fname = os.path.join(cache_dir, url.split('/')[-1])\n",
        "    if os.path.exists(fname):\n",
        "        sha1 = hashlib.sha1()\n",
        "        with open(fname, 'rb') as f:\n",
        "            while True:\n",
        "                data = f.read(1048576)\n",
        "                if not data:\n",
        "                    break\n",
        "                sha1.update(data)\n",
        "        if sha1.hexdigest() == sha1_hash:\n",
        "            return fname  # 命中缓存\n",
        "    print(f'正在从{url}下载{fname}...')\n",
        "    r = requests.get(url, stream=True, verify=True)\n",
        "    with open(fname, 'wb') as f:\n",
        "        f.write(r.content)\n",
        "    return fname"
      ]
    },
    {
      "cell_type": "markdown",
      "id": "047519fe",
      "metadata": {
        "origin_pos": 4,
        "id": "047519fe"
      },
      "source": [
        "我们还需实现两个实用函数：\n",
        "一个将下载并解压缩一个zip或tar文件，\n",
        "另一个是将本书中使用的所有数据集从`DATA_HUB`下载到缓存目录中。\n"
      ]
    },
    {
      "cell_type": "code",
      "execution_count": 4,
      "id": "00bad86b",
      "metadata": {
        "execution": {
          "iopub.execute_input": "2023-08-18T07:28:26.735245Z",
          "iopub.status.busy": "2023-08-18T07:28:26.734617Z",
          "iopub.status.idle": "2023-08-18T07:28:26.740407Z",
          "shell.execute_reply": "2023-08-18T07:28:26.739586Z"
        },
        "origin_pos": 5,
        "tab": [
          "tensorflow"
        ],
        "id": "00bad86b"
      },
      "outputs": [],
      "source": [
        "def download_extract(name, folder=None):  #@save\n",
        "    \"\"\"下载并解压zip/tar文件\"\"\"\n",
        "    fname = download(name)\n",
        "    base_dir = os.path.dirname(fname)\n",
        "    data_dir, ext = os.path.splitext(fname)\n",
        "    if ext == '.zip':\n",
        "        fp = zipfile.ZipFile(fname, 'r')\n",
        "    elif ext in ('.tar', '.gz'):\n",
        "        fp = tarfile.open(fname, 'r')\n",
        "    else:\n",
        "        assert False, '只有zip/tar文件可以被解压缩'\n",
        "    fp.extractall(base_dir)\n",
        "    return os.path.join(base_dir, folder) if folder else data_dir\n",
        "\n",
        "def download_all():  #@save\n",
        "    \"\"\"下载DATA_HUB中的所有文件\"\"\"\n",
        "    for name in DATA_HUB:\n",
        "        download(name)"
      ]
    },
    {
      "cell_type": "markdown",
      "id": "36805349",
      "metadata": {
        "origin_pos": 6,
        "id": "36805349"
      },
      "source": [
        "## Kaggle\n",
        "\n",
        "[Kaggle](https://www.kaggle.com)是一个当今流行举办机器学习比赛的平台，\n",
        "每场比赛都以至少一个数据集为中心。\n",
        "许多比赛有赞助方，他们为获胜的解决方案提供奖金。\n",
        "该平台帮助用户通过论坛和共享代码进行互动，促进协作和竞争。\n",
        "虽然排行榜的追逐往往令人失去理智：\n",
        "有些研究人员短视地专注于预处理步骤，而不是考虑基础性问题。\n",
        "但一个客观的平台有巨大的价值：该平台促进了竞争方法之间的直接定量比较，以及代码共享。\n",
        "这便于每个人都可以学习哪些方法起作用，哪些没有起作用。\n",
        "如果我们想参加Kaggle比赛，首先需要注册一个账户（见 :numref:`fig_kaggle`）。\n",
        "\n",
        "![Kaggle网站](https://github.com/d2l-ai/d2l-zh-tensorflow-colab/blob/master/img/kaggle.png?raw=1)\n",
        ":width:`400px`\n",
        ":label:`fig_kaggle`\n",
        "\n",
        "在房价预测比赛页面（如 :numref:`fig_house_pricing` 所示）的\"Data\"选项卡下可以找到数据集。我们可以通过下面的网址提交预测，并查看排名：\n",
        "\n",
        ">https://www.kaggle.com/c/house-prices-advanced-regression-techniques\n",
        "\n",
        "![房价预测比赛页面](https://github.com/d2l-ai/d2l-zh-tensorflow-colab/blob/master/img/house-pricing.png?raw=1)\n",
        ":width:`400px`\n",
        ":label:`fig_house_pricing`\n",
        "\n",
        "## 访问和读取数据集\n",
        "\n",
        "注意，竞赛数据分为训练集和测试集。\n",
        "每条记录都包括房屋的属性值和属性，如街道类型、施工年份、屋顶类型、地下室状况等。\n",
        "这些特征由各种数据类型组成。\n",
        "例如，建筑年份由整数表示，屋顶类型由离散类别表示，其他特征由浮点数表示。\n",
        "这就是现实让事情变得复杂的地方：例如，一些数据完全丢失了，缺失值被简单地标记为“NA”。\n",
        "每套房子的价格只出现在训练集中（毕竟这是一场比赛）。\n",
        "我们将希望划分训练集以创建验证集，但是在将预测结果上传到Kaggle之后，\n",
        "我们只能在官方测试集中评估我们的模型。\n",
        "在 :numref:`fig_house_pricing` 中，\"Data\"选项卡有下载数据的链接。\n",
        "\n",
        "开始之前，我们将[**使用`pandas`读入并处理数据**]，\n",
        "这是我们在 :numref:`sec_pandas`中引入的。\n",
        "因此，在继续操作之前，我们需要确保已安装`pandas`。\n",
        "幸运的是，如果我们正在用Jupyter阅读该书，可以在不离开笔记本的情况下安装`pandas`。\n"
      ]
    },
    {
      "cell_type": "code",
      "execution_count": 5,
      "id": "59cf9040",
      "metadata": {
        "execution": {
          "iopub.execute_input": "2023-08-18T07:28:26.744038Z",
          "iopub.status.busy": "2023-08-18T07:28:26.743416Z",
          "iopub.status.idle": "2023-08-18T07:28:29.683923Z",
          "shell.execute_reply": "2023-08-18T07:28:29.682273Z"
        },
        "origin_pos": 9,
        "tab": [
          "tensorflow"
        ],
        "id": "59cf9040"
      },
      "outputs": [],
      "source": [
        "# 如果没有安装pandas，请取消下一行的注释\n",
        "# !pip install pandas\n",
        "\n",
        "%matplotlib inline\n",
        "import numpy as np\n",
        "import pandas as pd\n",
        "import tensorflow as tf\n",
        "from d2l import tensorflow as d2l"
      ]
    },
    {
      "cell_type": "markdown",
      "id": "38409d3a",
      "metadata": {
        "origin_pos": 11,
        "id": "38409d3a"
      },
      "source": [
        "为方便起见，我们可以使用上面定义的脚本下载并缓存Kaggle房屋数据集。\n"
      ]
    },
    {
      "cell_type": "code",
      "execution_count": 6,
      "id": "21cc828f",
      "metadata": {
        "execution": {
          "iopub.execute_input": "2023-08-18T07:28:29.691663Z",
          "iopub.status.busy": "2023-08-18T07:28:29.690413Z",
          "iopub.status.idle": "2023-08-18T07:28:29.697933Z",
          "shell.execute_reply": "2023-08-18T07:28:29.696676Z"
        },
        "origin_pos": 12,
        "tab": [
          "tensorflow"
        ],
        "id": "21cc828f"
      },
      "outputs": [],
      "source": [
        "DATA_HUB['kaggle_house_train'] = (  #@save\n",
        "    DATA_URL + 'kaggle_house_pred_train.csv',\n",
        "    '585e9cc93e70b39160e7921475f9bcd7d31219ce')\n",
        "\n",
        "DATA_HUB['kaggle_house_test'] = (  #@save\n",
        "    DATA_URL + 'kaggle_house_pred_test.csv',\n",
        "    'fa19780a7b011d9b009e8bff8e99922a8ee2eb90')"
      ]
    },
    {
      "cell_type": "markdown",
      "id": "2e0ad618",
      "metadata": {
        "origin_pos": 13,
        "id": "2e0ad618"
      },
      "source": [
        "我们使用`pandas`分别加载包含训练数据和测试数据的两个CSV文件。\n"
      ]
    },
    {
      "cell_type": "code",
      "execution_count": 7,
      "id": "53731dbb",
      "metadata": {
        "execution": {
          "iopub.execute_input": "2023-08-18T07:28:29.704493Z",
          "iopub.status.busy": "2023-08-18T07:28:29.703130Z",
          "iopub.status.idle": "2023-08-18T07:28:30.147810Z",
          "shell.execute_reply": "2023-08-18T07:28:30.146875Z"
        },
        "origin_pos": 14,
        "tab": [
          "tensorflow"
        ],
        "id": "53731dbb",
        "outputId": "86a170b0-adad-4453-d894-4e182a408216",
        "colab": {
          "base_uri": "https://localhost:8080/"
        }
      },
      "outputs": [
        {
          "output_type": "stream",
          "name": "stdout",
          "text": [
            "正在从http://d2l-data.s3-accelerate.amazonaws.com/kaggle_house_pred_train.csv下载../data/kaggle_house_pred_train.csv...\n",
            "正在从http://d2l-data.s3-accelerate.amazonaws.com/kaggle_house_pred_test.csv下载../data/kaggle_house_pred_test.csv...\n"
          ]
        }
      ],
      "source": [
        "train_data = pd.read_csv(download('kaggle_house_train'))\n",
        "test_data = pd.read_csv(download('kaggle_house_test'))"
      ]
    },
    {
      "cell_type": "markdown",
      "id": "25657466",
      "metadata": {
        "origin_pos": 15,
        "id": "25657466"
      },
      "source": [
        "训练数据集包括1460个样本，每个样本80个特征和1个标签，\n",
        "而测试数据集包含1459个样本，每个样本80个特征。\n"
      ]
    },
    {
      "cell_type": "code",
      "execution_count": 8,
      "id": "daf54bdb",
      "metadata": {
        "execution": {
          "iopub.execute_input": "2023-08-18T07:28:30.151819Z",
          "iopub.status.busy": "2023-08-18T07:28:30.151052Z",
          "iopub.status.idle": "2023-08-18T07:28:30.155625Z",
          "shell.execute_reply": "2023-08-18T07:28:30.154773Z"
        },
        "origin_pos": 16,
        "tab": [
          "tensorflow"
        ],
        "id": "daf54bdb",
        "outputId": "65f716df-7fb7-4bf9-cefe-5044129fc5e3",
        "colab": {
          "base_uri": "https://localhost:8080/"
        }
      },
      "outputs": [
        {
          "output_type": "stream",
          "name": "stdout",
          "text": [
            "(1460, 81)\n",
            "(1459, 80)\n"
          ]
        }
      ],
      "source": [
        "print(train_data.shape)\n",
        "print(test_data.shape)"
      ]
    },
    {
      "cell_type": "markdown",
      "id": "e3a8379e",
      "metadata": {
        "origin_pos": 17,
        "id": "e3a8379e"
      },
      "source": [
        "让我们看看[**前四个和最后两个特征，以及相应标签**]（房价）。\n"
      ]
    },
    {
      "cell_type": "code",
      "execution_count": 9,
      "id": "6c0ef08b",
      "metadata": {
        "execution": {
          "iopub.execute_input": "2023-08-18T07:28:30.159019Z",
          "iopub.status.busy": "2023-08-18T07:28:30.158555Z",
          "iopub.status.idle": "2023-08-18T07:28:30.169540Z",
          "shell.execute_reply": "2023-08-18T07:28:30.168688Z"
        },
        "origin_pos": 18,
        "tab": [
          "tensorflow"
        ],
        "id": "6c0ef08b",
        "outputId": "750cb635-da22-4c28-e918-9918706e23c3",
        "colab": {
          "base_uri": "https://localhost:8080/"
        }
      },
      "outputs": [
        {
          "output_type": "stream",
          "name": "stdout",
          "text": [
            "   Id  MSSubClass MSZoning  LotFrontage SaleType SaleCondition  SalePrice\n",
            "0   1          60       RL         65.0       WD        Normal     208500\n",
            "1   2          20       RL         80.0       WD        Normal     181500\n",
            "2   3          60       RL         68.0       WD        Normal     223500\n",
            "3   4          70       RL         60.0       WD       Abnorml     140000\n"
          ]
        }
      ],
      "source": [
        "print(train_data.iloc[0:4, [0, 1, 2, 3, -3, -2, -1]])"
      ]
    },
    {
      "cell_type": "markdown",
      "id": "5da4339c",
      "metadata": {
        "origin_pos": 19,
        "id": "5da4339c"
      },
      "source": [
        "我们可以看到，(**在每个样本中，第一个特征是ID，**)\n",
        "这有助于模型识别每个训练样本。\n",
        "虽然这很方便，但它不携带任何用于预测的信息。\n",
        "因此，在将数据提供给模型之前，(**我们将其从数据集中删除**)。\n"
      ]
    },
    {
      "cell_type": "code",
      "execution_count": 13,
      "id": "8e6cc71c",
      "metadata": {
        "execution": {
          "iopub.execute_input": "2023-08-18T07:28:30.173151Z",
          "iopub.status.busy": "2023-08-18T07:28:30.172498Z",
          "iopub.status.idle": "2023-08-18T07:28:30.192407Z",
          "shell.execute_reply": "2023-08-18T07:28:30.191574Z"
        },
        "origin_pos": 20,
        "tab": [
          "tensorflow"
        ],
        "id": "8e6cc71c",
        "outputId": "7f5f0482-8ca5-4de3-f4ef-528bb5489ac8",
        "colab": {
          "base_uri": "https://localhost:8080/"
        }
      },
      "outputs": [
        {
          "output_type": "stream",
          "name": "stdout",
          "text": [
            "   MSSubClass MSZoning  LotFrontage  LotArea Street Alley LotShape  \\\n",
            "0          60       RL         65.0     8450   Pave   NaN      Reg   \n",
            "1          20       RL         80.0     9600   Pave   NaN      Reg   \n",
            "2          60       RL         68.0    11250   Pave   NaN      IR1   \n",
            "3          70       RL         60.0     9550   Pave   NaN      IR1   \n",
            "\n",
            "  LandContour Utilities LotConfig  ... ScreenPorch PoolArea PoolQC Fence  \\\n",
            "0         Lvl    AllPub    Inside  ...           0        0    NaN   NaN   \n",
            "1         Lvl    AllPub       FR2  ...           0        0    NaN   NaN   \n",
            "2         Lvl    AllPub    Inside  ...           0        0    NaN   NaN   \n",
            "3         Lvl    AllPub    Corner  ...           0        0    NaN   NaN   \n",
            "\n",
            "  MiscFeature MiscVal  MoSold  YrSold  SaleType  SaleCondition  \n",
            "0         NaN       0       2    2008        WD         Normal  \n",
            "1         NaN       0       5    2007        WD         Normal  \n",
            "2         NaN       0       9    2008        WD         Normal  \n",
            "3         NaN       0       2    2006        WD        Abnorml  \n",
            "\n",
            "[4 rows x 79 columns]\n",
            "   MSSubClass MSZoning  LotFrontage  LotArea Street Alley LotShape  \\\n",
            "0          20       RH         80.0    11622   Pave   NaN      Reg   \n",
            "1          20       RL         81.0    14267   Pave   NaN      IR1   \n",
            "2          60       RL         74.0    13830   Pave   NaN      IR1   \n",
            "3          60       RL         78.0     9978   Pave   NaN      IR1   \n",
            "\n",
            "  LandContour Utilities LotConfig  ... ScreenPorch PoolArea PoolQC  Fence  \\\n",
            "0         Lvl    AllPub    Inside  ...         120        0    NaN  MnPrv   \n",
            "1         Lvl    AllPub    Corner  ...           0        0    NaN    NaN   \n",
            "2         Lvl    AllPub    Inside  ...           0        0    NaN  MnPrv   \n",
            "3         Lvl    AllPub    Inside  ...           0        0    NaN    NaN   \n",
            "\n",
            "  MiscFeature MiscVal  MoSold  YrSold  SaleType  SaleCondition  \n",
            "0         NaN       0       6    2010        WD         Normal  \n",
            "1        Gar2   12500       6    2010        WD         Normal  \n",
            "2         NaN       0       3    2010        WD         Normal  \n",
            "3         NaN       0       6    2010        WD         Normal  \n",
            "\n",
            "[4 rows x 79 columns]\n",
            "   MSSubClass MSZoning  LotFrontage  LotArea  YrSold SaleType SaleCondition\n",
            "0          60       RL         65.0     8450    2008       WD        Normal\n",
            "1          20       RL         80.0     9600    2007       WD        Normal\n",
            "2          60       RL         68.0    11250    2008       WD        Normal\n",
            "3          70       RL         60.0     9550    2006       WD       Abnorml\n"
          ]
        }
      ],
      "source": [
        "all_features = pd.concat((train_data.iloc[:, 1:-1], test_data.iloc[:, 1:]))\n",
        "print(train_data.iloc[0:4, 1:-1]) # 1:-1会排除掉train_data最后一列的label\n",
        "print(test_data.iloc[0:4, 1:])\n",
        "print(all_features.iloc[0:4, [0, 1, 2 ,3 ,-3, -2, -1]])"
      ]
    },
    {
      "cell_type": "markdown",
      "id": "98d903a5",
      "metadata": {
        "origin_pos": 21,
        "id": "98d903a5"
      },
      "source": [
        "## 数据预处理\n",
        "\n",
        "如上所述，我们有各种各样的数据类型。\n",
        "在开始建模之前，我们需要对数据进行预处理。\n",
        "首先，我们[**将所有缺失的值替换为相应特征的平均值。**]然后，为了将所有特征放在一个共同的尺度上，\n",
        "我们(**通过将特征重新缩放到零均值和单位方差来标准化数据**)（mio按 这里就是统计学里面常用的化标准正态分布的Z分数）：\n",
        "\n",
        "$$x \\leftarrow \\frac{x - \\mu}{\\sigma},$$\n",
        "\n",
        "其中$\\mu$和$\\sigma$分别表示均值和标准差。\n",
        "现在，这些特征具有零均值和单位方差，即 $E[\\frac{x-\\mu}{\\sigma}] = \\frac{\\mu - \\mu}{\\sigma} = 0$和$E[(x-\\mu)^2] = (\\sigma^2 + \\mu^2) - 2\\mu^2+\\mu^2 = \\sigma^2$。\n",
        "直观地说，我们标准化数据有两个原因：\n",
        "首先，它方便优化。\n",
        "其次，因为我们不知道哪些特征是相关的，\n",
        "所以我们不想让惩罚分配给一个特征的系数比分配给其他任何特征的系数更大。\n"
      ]
    },
    {
      "cell_type": "code",
      "execution_count": 17,
      "id": "dd6bc6d5",
      "metadata": {
        "execution": {
          "iopub.execute_input": "2023-08-18T07:28:30.196022Z",
          "iopub.status.busy": "2023-08-18T07:28:30.195358Z",
          "iopub.status.idle": "2023-08-18T07:28:30.249961Z",
          "shell.execute_reply": "2023-08-18T07:28:30.249144Z"
        },
        "origin_pos": 22,
        "tab": [
          "tensorflow"
        ],
        "id": "dd6bc6d5",
        "outputId": "029e9dab-3913-4a49-bd83-f5f80c0be709",
        "colab": {
          "base_uri": "https://localhost:8080/"
        }
      },
      "outputs": [
        {
          "output_type": "stream",
          "name": "stdout",
          "text": [
            "Index(['MSSubClass', 'LotFrontage', 'LotArea', 'OverallQual', 'OverallCond',\n",
            "       'YearBuilt', 'YearRemodAdd', 'MasVnrArea', 'BsmtFinSF1', 'BsmtFinSF2',\n",
            "       'BsmtUnfSF', 'TotalBsmtSF', '1stFlrSF', '2ndFlrSF', 'LowQualFinSF',\n",
            "       'GrLivArea', 'BsmtFullBath', 'BsmtHalfBath', 'FullBath', 'HalfBath',\n",
            "       'BedroomAbvGr', 'KitchenAbvGr', 'TotRmsAbvGrd', 'Fireplaces',\n",
            "       'GarageYrBlt', 'GarageCars', 'GarageArea', 'WoodDeckSF', 'OpenPorchSF',\n",
            "       'EnclosedPorch', '3SsnPorch', 'ScreenPorch', 'PoolArea', 'MiscVal',\n",
            "       'MoSold', 'YrSold'],\n",
            "      dtype='object')\n",
            "   MSSubClass  LotFrontage   LotArea  OverallQual  OverallCond  YearBuilt  \\\n",
            "0    0.067320    -0.202033 -0.217841     0.646073    -0.507197   1.046078   \n",
            "1   -0.873466     0.501785 -0.072032    -0.063174     2.187904   0.154737   \n",
            "2    0.067320    -0.061269  0.137173     0.646073    -0.507197   0.980053   \n",
            "3    0.302516    -0.436639 -0.078371     0.646073    -0.507197  -1.859033   \n",
            "\n",
            "   YearRemodAdd  MasVnrArea  BsmtFinSF1  BsmtFinSF2  ...  GarageArea  \\\n",
            "0      0.896679    0.525112    0.580807    -0.29308  ...    0.348840   \n",
            "1     -0.395536   -0.572152    1.177910    -0.29308  ...   -0.059782   \n",
            "2      0.848819    0.334770    0.097856    -0.29308  ...    0.627446   \n",
            "3     -0.682695   -0.572152   -0.494856    -0.29308  ...    0.785323   \n",
            "\n",
            "   WoodDeckSF  OpenPorchSF  EnclosedPorch  3SsnPorch  ScreenPorch  PoolArea  \\\n",
            "0   -0.740634     0.199972      -0.359539  -0.103313    -0.285886 -0.063139   \n",
            "1    1.614603    -0.702722      -0.359539  -0.103313    -0.285886 -0.063139   \n",
            "2   -0.740634    -0.081195      -0.359539  -0.103313    -0.285886 -0.063139   \n",
            "3   -0.740634    -0.184783       3.874303  -0.103313    -0.285886 -0.063139   \n",
            "\n",
            "    MiscVal    MoSold    YrSold  \n",
            "0 -0.089577 -1.551918  0.157619  \n",
            "1 -0.089577 -0.446848 -0.602858  \n",
            "2 -0.089577  1.026577  0.157619  \n",
            "3 -0.089577 -1.551918 -1.363335  \n",
            "\n",
            "[4 rows x 36 columns]\n"
          ]
        }
      ],
      "source": [
        "# 若无法获得测试数据，则可根据训练数据计算均值和标准差\n",
        "numeric_features = all_features.dtypes[all_features.dtypes != 'object'].index\n",
        "print(numeric_features)\n",
        "all_features[numeric_features] = all_features[numeric_features].apply(\n",
        "    lambda x: (x - x.mean()) / (x.std()))\n",
        "print(all_features[numeric_features].iloc[0:4])\n",
        "# 在标准化数据之后，所有均值消失，因此我们可以将缺失值设置为0\n",
        "# 这里处理的是数字连续值列，字符串离散值列在后面处理\n",
        "all_features[numeric_features] = all_features[numeric_features].fillna(0)"
      ]
    },
    {
      "cell_type": "markdown",
      "id": "df99e52b",
      "metadata": {
        "origin_pos": 23,
        "id": "df99e52b"
      },
      "source": [
        "接下来，我们[**处理离散值。**]\n",
        "这包括诸如“MSZoning”之类的特征。\n",
        "(**我们用独热编码替换它们**)，\n",
        "方法与前面将多类别标签转换为向量的方式相同\n",
        "（请参见 :numref:`subsec_classification-problem`）。\n",
        "例如，“MSZoning”包含值“RL”和“Rm”。\n",
        "我们将创建两个新的指示器特征“MSZoning_RL”和“MSZoning_RM”，其值为0或1。\n",
        "根据独热编码，如果“MSZoning”的原始值为“RL”，\n",
        "则：“MSZoning_RL”为1，“MSZoning_RM”为0。\n",
        "`pandas`软件包会自动为我们实现这一点。\n"
      ]
    },
    {
      "cell_type": "code",
      "execution_count": 18,
      "id": "0455ff24",
      "metadata": {
        "execution": {
          "iopub.execute_input": "2023-08-18T07:28:30.253619Z",
          "iopub.status.busy": "2023-08-18T07:28:30.252984Z",
          "iopub.status.idle": "2023-08-18T07:28:30.309959Z",
          "shell.execute_reply": "2023-08-18T07:28:30.309150Z"
        },
        "origin_pos": 24,
        "tab": [
          "tensorflow"
        ],
        "id": "0455ff24",
        "outputId": "92e07d12-fcfa-4418-c703-5b87d5c8e0bb",
        "colab": {
          "base_uri": "https://localhost:8080/"
        }
      },
      "outputs": [
        {
          "output_type": "execute_result",
          "data": {
            "text/plain": [
              "(2919, 330)"
            ]
          },
          "metadata": {},
          "execution_count": 18
        }
      ],
      "source": [
        "# “Dummy_na=True”将“na”（缺失值）视为有效的特征值，并为其创建指示符特征\n",
        "# 独热编码下原来的一列会被拆分为数据列中的有效元素种类数 + 1（NA）列\n",
        "all_features = pd.get_dummies(all_features, dummy_na=True)\n",
        "all_features.shape"
      ]
    },
    {
      "cell_type": "markdown",
      "id": "07340612",
      "metadata": {
        "origin_pos": 25,
        "id": "07340612"
      },
      "source": [
        "可以看到此转换会将特征的总数量从79个增加到331个。\n",
        "最后，通过`values`属性，我们可以\n",
        "[**从`pandas`格式中提取NumPy格式，并将其转换为张量表示**]用于训练。\n"
      ]
    },
    {
      "cell_type": "code",
      "execution_count": 20,
      "id": "bf901889",
      "metadata": {
        "execution": {
          "iopub.execute_input": "2023-08-18T07:28:30.313737Z",
          "iopub.status.busy": "2023-08-18T07:28:30.313104Z",
          "iopub.status.idle": "2023-08-18T07:28:31.421953Z",
          "shell.execute_reply": "2023-08-18T07:28:31.421048Z"
        },
        "origin_pos": 26,
        "tab": [
          "tensorflow"
        ],
        "id": "bf901889"
      },
      "outputs": [],
      "source": [
        "n_train = train_data.shape[0] # 取训练集行数\n",
        "# 将合并处理的训练集和测试集特征重新拆开\n",
        "train_features = tf.constant(all_features[:n_train].values, dtype=tf.float32)\n",
        "test_features = tf.constant(all_features[n_train:].values, dtype=tf.float32)\n",
        "train_labels = tf.constant(\n",
        "    train_data.SalePrice.values.reshape(-1, 1), dtype=tf.float32)"
      ]
    },
    {
      "cell_type": "markdown",
      "id": "b4416554",
      "metadata": {
        "origin_pos": 27,
        "id": "b4416554"
      },
      "source": [
        "## [**训练**]\n",
        "\n",
        "首先，我们训练一个带有损失平方的线性模型。\n",
        "显然线性模型很难让我们在竞赛中获胜，但线性模型提供了一种健全性检查，\n",
        "以查看数据中是否存在有意义的信息。\n",
        "如果我们在这里不能做得比随机猜测更好，那么我们很可能存在数据处理错误。\n",
        "如果一切顺利，线性模型将作为*基线*（baseline）模型，\n",
        "让我们直观地知道最好的模型有超出简单的模型多少。\n"
      ]
    },
    {
      "cell_type": "code",
      "execution_count": 21,
      "id": "ab99b1b2",
      "metadata": {
        "execution": {
          "iopub.execute_input": "2023-08-18T07:28:31.426033Z",
          "iopub.status.busy": "2023-08-18T07:28:31.425450Z",
          "iopub.status.idle": "2023-08-18T07:28:31.430089Z",
          "shell.execute_reply": "2023-08-18T07:28:31.429298Z"
        },
        "origin_pos": 30,
        "tab": [
          "tensorflow"
        ],
        "id": "ab99b1b2"
      },
      "outputs": [],
      "source": [
        "loss = tf.keras.losses.MeanSquaredError()\n",
        "\n",
        "def get_net():\n",
        "    net = tf.keras.models.Sequential()\n",
        "    net.add(tf.keras.layers.Dense(\n",
        "        1, kernel_regularizer=tf.keras.regularizers.l2(weight_decay)))\n",
        "    return net"
      ]
    },
    {
      "cell_type": "markdown",
      "id": "0e8b3aca",
      "metadata": {
        "origin_pos": 31,
        "id": "0e8b3aca"
      },
      "source": [
        "房价就像股票价格一样，我们关心的是相对数量，而不是绝对数量。\n",
        "因此，[**我们更关心相对误差$\\frac{y - \\hat{y}}{y}$，**]\n",
        "而不是绝对误差$y - \\hat{y}$。\n",
        "例如，如果我们在俄亥俄州农村地区估计一栋房子的价格时，\n",
        "假设我们的预测偏差了10万美元，\n",
        "然而那里一栋典型的房子的价值是12.5万美元，\n",
        "那么模型可能做得很糟糕。\n",
        "另一方面，如果我们在加州豪宅区的预测出现同样的10万美元的偏差，\n",
        "（在那里，房价中位数超过400万美元）\n",
        "这可能是一个不错的预测。\n",
        "\n",
        "(**解决这个问题的一种方法是用价格预测的对数来衡量差异**)。\n",
        "事实上，这也是比赛中官方用来评价提交质量的误差指标。\n",
        "即将$\\delta$ for $|\\log y - \\log \\hat{y}| \\leq \\delta$\n",
        "转换为$e^{-\\delta} \\leq \\frac{\\hat{y}}{y} \\leq e^\\delta$。\n",
        "这使得预测价格的对数与真实标签价格的对数之间出现以下均方根误差：\n",
        "\n",
        "$$\\sqrt{\\frac{1}{n}\\sum_{i=1}^n\\left(\\log y_i -\\log \\hat{y}_i\\right)^2}.$$\n"
      ]
    },
    {
      "cell_type": "code",
      "execution_count": 22,
      "id": "78ba0a8f",
      "metadata": {
        "execution": {
          "iopub.execute_input": "2023-08-18T07:28:31.433781Z",
          "iopub.status.busy": "2023-08-18T07:28:31.433141Z",
          "iopub.status.idle": "2023-08-18T07:28:31.437589Z",
          "shell.execute_reply": "2023-08-18T07:28:31.436806Z"
        },
        "origin_pos": 34,
        "tab": [
          "tensorflow"
        ],
        "id": "78ba0a8f"
      },
      "outputs": [],
      "source": [
        "def log_rmse(y_true, y_pred):\n",
        "    # 为了在取对数时进一步稳定该值，将小于1的值设置为1\n",
        "    clipped_preds = tf.clip_by_value(y_pred, 1, float('inf'))\n",
        "    return tf.sqrt(tf.reduce_mean(loss(\n",
        "        tf.math.log(y_true), tf.math.log(clipped_preds))))"
      ]
    },
    {
      "cell_type": "markdown",
      "id": "8f60a68b",
      "metadata": {
        "origin_pos": 36,
        "id": "8f60a68b"
      },
      "source": [
        "与前面的部分不同，[**我们的训练函数将借助Adam优化器**]\n",
        "（我们将在后面章节更详细地描述它）。\n",
        "Adam优化器的主要吸引力在于它对初始学习率不那么敏感。\n"
      ]
    },
    {
      "cell_type": "code",
      "execution_count": 24,
      "id": "d621b878",
      "metadata": {
        "execution": {
          "iopub.execute_input": "2023-08-18T07:28:31.441230Z",
          "iopub.status.busy": "2023-08-18T07:28:31.440584Z",
          "iopub.status.idle": "2023-08-18T07:28:31.447029Z",
          "shell.execute_reply": "2023-08-18T07:28:31.446235Z"
        },
        "origin_pos": 39,
        "tab": [
          "tensorflow"
        ],
        "id": "d621b878"
      },
      "outputs": [],
      "source": [
        "def train(net, train_features, train_labels, test_features, test_labels,\n",
        "          num_epochs, learning_rate, weight_decay, batch_size):\n",
        "    train_ls, test_ls = [], []\n",
        "    train_iter = d2l.load_array((train_features, train_labels), batch_size)\n",
        "    # 这里使用的是Adam优化算法\n",
        "    optimizer = tf.keras.optimizers.Adam(learning_rate)\n",
        "    net.compile(loss=loss, optimizer=optimizer)\n",
        "    for epoch in range(num_epochs):\n",
        "        for X, y in train_iter:\n",
        "            with tf.GradientTape() as tape:\n",
        "                y_hat = net(X)\n",
        "                l = loss(y, y_hat)\n",
        "            params = net.trainable_variables\n",
        "            grads = tape.gradient(l, params)\n",
        "            optimizer.apply_gradients(zip(grads, params))\n",
        "        train_ls.append(log_rmse(train_labels, net(train_features)))\n",
        "        if test_labels is not None:\n",
        "            test_ls.append(log_rmse(test_labels, net(test_features)))\n",
        "    return train_ls, test_ls"
      ]
    },
    {
      "cell_type": "markdown",
      "id": "2e975c90",
      "metadata": {
        "origin_pos": 41,
        "id": "2e975c90"
      },
      "source": [
        "## $K$折交叉验证\n",
        "\n",
        "本书在讨论模型选择的部分（ :numref:`sec_model_selection`）\n",
        "中介绍了[**K折交叉验证**]，\n",
        "它有助于模型选择和超参数调整。\n",
        "我们首先需要定义一个函数，在$K$折交叉验证过程中返回第$i$折的数据。\n",
        "具体地说，它选择第$i$个切片作为验证数据，其余部分作为训练数据。\n",
        "注意，这并不是处理数据的最有效方法，如果我们的数据集大得多，会有其他解决办法。\n",
        "\n",
        "（mio按 经验上来说，$K$取$5$或$10$能在计算成本和稳定性间取得平衡。\n",
        "对于更小的数据集，可以增大$K$，甚至可以使用留一法，即$K=样本数$；\n",
        "对于更大的数据集，可以减小$K$，取$K=3$等。）\n"
      ]
    },
    {
      "cell_type": "code",
      "execution_count": 25,
      "id": "373e4191",
      "metadata": {
        "execution": {
          "iopub.execute_input": "2023-08-18T07:28:31.450673Z",
          "iopub.status.busy": "2023-08-18T07:28:31.450018Z",
          "iopub.status.idle": "2023-08-18T07:28:31.455688Z",
          "shell.execute_reply": "2023-08-18T07:28:31.454901Z"
        },
        "origin_pos": 42,
        "tab": [
          "tensorflow"
        ],
        "id": "373e4191"
      },
      "outputs": [],
      "source": [
        "def get_k_fold_data(k, i, X, y):  # 将第i个切片划为验证集\n",
        "    assert k > 1\n",
        "    fold_size = X.shape[0] // k\n",
        "    X_train, y_train = None, None\n",
        "    for j in range(k):\n",
        "        idx = slice(j * fold_size, (j + 1) * fold_size)\n",
        "        X_part, y_part = X[idx, :], y[idx]\n",
        "        if j == i:\n",
        "            X_valid, y_valid = X_part, y_part\n",
        "        elif X_train is None:\n",
        "            X_train, y_train = X_part, y_part\n",
        "        else:\n",
        "            X_train = tf.concat([X_train, X_part], 0) # 这里的0是axis=0，即按行concatenate\n",
        "            y_train = tf.concat([y_train, y_part], 0)\n",
        "    return X_train, y_train, X_valid, y_valid"
      ]
    },
    {
      "cell_type": "markdown",
      "id": "14637e9e",
      "metadata": {
        "origin_pos": 43,
        "id": "14637e9e"
      },
      "source": [
        "当我们在$K$折交叉验证中训练$K$次后，[**返回训练和验证误差的平均值**]。\n"
      ]
    },
    {
      "cell_type": "code",
      "execution_count": 26,
      "id": "be92a652",
      "metadata": {
        "execution": {
          "iopub.execute_input": "2023-08-18T07:28:31.459129Z",
          "iopub.status.busy": "2023-08-18T07:28:31.458613Z",
          "iopub.status.idle": "2023-08-18T07:28:31.464826Z",
          "shell.execute_reply": "2023-08-18T07:28:31.464022Z"
        },
        "origin_pos": 44,
        "tab": [
          "tensorflow"
        ],
        "id": "be92a652"
      },
      "outputs": [],
      "source": [
        "def k_fold(k, X_train, y_train, num_epochs, learning_rate, weight_decay,\n",
        "           batch_size):\n",
        "    train_l_sum, valid_l_sum = 0, 0\n",
        "    for i in range(k):  # 分别尝试对每个切片划为验证集处理\n",
        "        data = get_k_fold_data(k, i, X_train, y_train)\n",
        "        net = get_net()\n",
        "        train_ls, valid_ls = train(net, *data, num_epochs, learning_rate,\n",
        "                                   weight_decay, batch_size)\n",
        "        train_l_sum += train_ls[-1]\n",
        "        valid_l_sum += valid_ls[-1]\n",
        "        if i == 0:\n",
        "            d2l.plot(list(range(1, num_epochs + 1)), [train_ls, valid_ls],\n",
        "                     xlabel='epoch', ylabel='rmse', xlim=[1, num_epochs],\n",
        "                     legend=['train', 'valid'], yscale='log')\n",
        "        print(f'折{i + 1}，训练log rmse{float(train_ls[-1]):f}, '\n",
        "              f'验证log rmse{float(valid_ls[-1]):f}')\n",
        "    return train_l_sum / k, valid_l_sum / k"
      ]
    },
    {
      "cell_type": "markdown",
      "id": "91e553c1",
      "metadata": {
        "origin_pos": 45,
        "id": "91e553c1"
      },
      "source": [
        "## [**模型选择**]\n",
        "\n",
        "在本例中，我们选择了一组未调优的超参数，并将其留给读者来改进模型。\n",
        "找到一组调优的超参数可能需要时间，这取决于一个人优化了多少变量。\n",
        "有了足够大的数据集和合理设置的超参数，$K$折交叉验证往往对多次测试具有相当的稳定性。\n",
        "然而，如果我们尝试了不合理的超参数，我们可能会发现验证效果不再代表真正的误差。\n"
      ]
    },
    {
      "cell_type": "code",
      "execution_count": 28,
      "id": "ff1c09bf",
      "metadata": {
        "execution": {
          "iopub.execute_input": "2023-08-18T07:28:31.468275Z",
          "iopub.status.busy": "2023-08-18T07:28:31.467756Z",
          "iopub.status.idle": "2023-08-18T07:29:33.223229Z",
          "shell.execute_reply": "2023-08-18T07:29:33.222379Z"
        },
        "origin_pos": 46,
        "tab": [
          "tensorflow"
        ],
        "id": "ff1c09bf",
        "outputId": "2bc90bf0-443f-489d-e237-42c9cc3e1c5a",
        "colab": {
          "base_uri": "https://localhost:8080/",
          "height": 367
        }
      },
      "outputs": [
        {
          "output_type": "stream",
          "name": "stdout",
          "text": [
            "折1，训练log rmse0.171075, 验证log rmse0.156282\n",
            "折2，训练log rmse0.162572, 验证log rmse0.191581\n",
            "折3，训练log rmse0.164154, 验证log rmse0.168602\n",
            "折4，训练log rmse0.169056, 验证log rmse0.154914\n",
            "折5，训练log rmse0.162991, 验证log rmse0.182975\n",
            "5-折验证: 平均训练log rmse: 0.165970, 平均验证log rmse: 0.170871\n"
          ]
        },
        {
          "output_type": "display_data",
          "data": {
            "text/plain": [
              "<Figure size 350x250 with 1 Axes>"
            ],
            "image/svg+xml": "<?xml version=\"1.0\" encoding=\"utf-8\" standalone=\"no\"?>\n<!DOCTYPE svg PUBLIC \"-//W3C//DTD SVG 1.1//EN\"\n  \"http://www.w3.org/Graphics/SVG/1.1/DTD/svg11.dtd\">\n<svg xmlns:xlink=\"http://www.w3.org/1999/xlink\" width=\"257.521875pt\" height=\"183.35625pt\" viewBox=\"0 0 257.521875 183.35625\" xmlns=\"http://www.w3.org/2000/svg\" version=\"1.1\">\n <metadata>\n  <rdf:RDF xmlns:dc=\"http://purl.org/dc/elements/1.1/\" xmlns:cc=\"http://creativecommons.org/ns#\" xmlns:rdf=\"http://www.w3.org/1999/02/22-rdf-syntax-ns#\">\n   <cc:Work>\n    <dc:type rdf:resource=\"http://purl.org/dc/dcmitype/StillImage\"/>\n    <dc:date>2025-02-24T06:41:18.046895</dc:date>\n    <dc:format>image/svg+xml</dc:format>\n    <dc:creator>\n     <cc:Agent>\n      <dc:title>Matplotlib v3.10.0, https://matplotlib.org/</dc:title>\n     </cc:Agent>\n    </dc:creator>\n   </cc:Work>\n  </rdf:RDF>\n </metadata>\n <defs>\n  <style type=\"text/css\">*{stroke-linejoin: round; stroke-linecap: butt}</style>\n </defs>\n <g id=\"figure_1\">\n  <g id=\"patch_1\">\n   <path d=\"M 0 183.35625 \nL 257.521875 183.35625 \nL 257.521875 0 \nL 0 0 \nz\n\" style=\"fill: #ffffff\"/>\n  </g>\n  <g id=\"axes_1\">\n   <g id=\"patch_2\">\n    <path d=\"M 45.478125 145.8 \nL 240.778125 145.8 \nL 240.778125 7.2 \nL 45.478125 7.2 \nz\n\" style=\"fill: #ffffff\"/>\n   </g>\n   <g id=\"matplotlib.axis_1\">\n    <g id=\"xtick_1\">\n     <g id=\"line2d_1\">\n      <path d=\"M 82.959943 145.8 \nL 82.959943 7.2 \n\" clip-path=\"url(#pc990685add)\" style=\"fill: none; stroke: #b0b0b0; stroke-width: 0.8; stroke-linecap: square\"/>\n     </g>\n     <g id=\"line2d_2\">\n      <defs>\n       <path id=\"mb0ae8f4fc9\" d=\"M 0 0 \nL 0 3.5 \n\" style=\"stroke: #000000; stroke-width: 0.8\"/>\n      </defs>\n      <g>\n       <use xlink:href=\"#mb0ae8f4fc9\" x=\"82.959943\" y=\"145.8\" style=\"stroke: #000000; stroke-width: 0.8\"/>\n      </g>\n     </g>\n     <g id=\"text_1\">\n      <!-- 20 -->\n      <g transform=\"translate(76.597443 160.398438) scale(0.1 -0.1)\">\n       <defs>\n        <path id=\"DejaVuSans-32\" d=\"M 1228 531 \nL 3431 531 \nL 3431 0 \nL 469 0 \nL 469 531 \nQ 828 903 1448 1529 \nQ 2069 2156 2228 2338 \nQ 2531 2678 2651 2914 \nQ 2772 3150 2772 3378 \nQ 2772 3750 2511 3984 \nQ 2250 4219 1831 4219 \nQ 1534 4219 1204 4116 \nQ 875 4013 500 3803 \nL 500 4441 \nQ 881 4594 1212 4672 \nQ 1544 4750 1819 4750 \nQ 2544 4750 2975 4387 \nQ 3406 4025 3406 3419 \nQ 3406 3131 3298 2873 \nQ 3191 2616 2906 2266 \nQ 2828 2175 2409 1742 \nQ 1991 1309 1228 531 \nz\n\" transform=\"scale(0.015625)\"/>\n        <path id=\"DejaVuSans-30\" d=\"M 2034 4250 \nQ 1547 4250 1301 3770 \nQ 1056 3291 1056 2328 \nQ 1056 1369 1301 889 \nQ 1547 409 2034 409 \nQ 2525 409 2770 889 \nQ 3016 1369 3016 2328 \nQ 3016 3291 2770 3770 \nQ 2525 4250 2034 4250 \nz\nM 2034 4750 \nQ 2819 4750 3233 4129 \nQ 3647 3509 3647 2328 \nQ 3647 1150 3233 529 \nQ 2819 -91 2034 -91 \nQ 1250 -91 836 529 \nQ 422 1150 422 2328 \nQ 422 3509 836 4129 \nQ 1250 4750 2034 4750 \nz\n\" transform=\"scale(0.015625)\"/>\n       </defs>\n       <use xlink:href=\"#DejaVuSans-32\"/>\n       <use xlink:href=\"#DejaVuSans-30\" transform=\"translate(63.623047 0)\"/>\n      </g>\n     </g>\n    </g>\n    <g id=\"xtick_2\">\n     <g id=\"line2d_3\">\n      <path d=\"M 122.414489 145.8 \nL 122.414489 7.2 \n\" clip-path=\"url(#pc990685add)\" style=\"fill: none; stroke: #b0b0b0; stroke-width: 0.8; stroke-linecap: square\"/>\n     </g>\n     <g id=\"line2d_4\">\n      <g>\n       <use xlink:href=\"#mb0ae8f4fc9\" x=\"122.414489\" y=\"145.8\" style=\"stroke: #000000; stroke-width: 0.8\"/>\n      </g>\n     </g>\n     <g id=\"text_2\">\n      <!-- 40 -->\n      <g transform=\"translate(116.051989 160.398438) scale(0.1 -0.1)\">\n       <defs>\n        <path id=\"DejaVuSans-34\" d=\"M 2419 4116 \nL 825 1625 \nL 2419 1625 \nL 2419 4116 \nz\nM 2253 4666 \nL 3047 4666 \nL 3047 1625 \nL 3713 1625 \nL 3713 1100 \nL 3047 1100 \nL 3047 0 \nL 2419 0 \nL 2419 1100 \nL 313 1100 \nL 313 1709 \nL 2253 4666 \nz\n\" transform=\"scale(0.015625)\"/>\n       </defs>\n       <use xlink:href=\"#DejaVuSans-34\"/>\n       <use xlink:href=\"#DejaVuSans-30\" transform=\"translate(63.623047 0)\"/>\n      </g>\n     </g>\n    </g>\n    <g id=\"xtick_3\">\n     <g id=\"line2d_5\">\n      <path d=\"M 161.869034 145.8 \nL 161.869034 7.2 \n\" clip-path=\"url(#pc990685add)\" style=\"fill: none; stroke: #b0b0b0; stroke-width: 0.8; stroke-linecap: square\"/>\n     </g>\n     <g id=\"line2d_6\">\n      <g>\n       <use xlink:href=\"#mb0ae8f4fc9\" x=\"161.869034\" y=\"145.8\" style=\"stroke: #000000; stroke-width: 0.8\"/>\n      </g>\n     </g>\n     <g id=\"text_3\">\n      <!-- 60 -->\n      <g transform=\"translate(155.506534 160.398438) scale(0.1 -0.1)\">\n       <defs>\n        <path id=\"DejaVuSans-36\" d=\"M 2113 2584 \nQ 1688 2584 1439 2293 \nQ 1191 2003 1191 1497 \nQ 1191 994 1439 701 \nQ 1688 409 2113 409 \nQ 2538 409 2786 701 \nQ 3034 994 3034 1497 \nQ 3034 2003 2786 2293 \nQ 2538 2584 2113 2584 \nz\nM 3366 4563 \nL 3366 3988 \nQ 3128 4100 2886 4159 \nQ 2644 4219 2406 4219 \nQ 1781 4219 1451 3797 \nQ 1122 3375 1075 2522 \nQ 1259 2794 1537 2939 \nQ 1816 3084 2150 3084 \nQ 2853 3084 3261 2657 \nQ 3669 2231 3669 1497 \nQ 3669 778 3244 343 \nQ 2819 -91 2113 -91 \nQ 1303 -91 875 529 \nQ 447 1150 447 2328 \nQ 447 3434 972 4092 \nQ 1497 4750 2381 4750 \nQ 2619 4750 2861 4703 \nQ 3103 4656 3366 4563 \nz\n\" transform=\"scale(0.015625)\"/>\n       </defs>\n       <use xlink:href=\"#DejaVuSans-36\"/>\n       <use xlink:href=\"#DejaVuSans-30\" transform=\"translate(63.623047 0)\"/>\n      </g>\n     </g>\n    </g>\n    <g id=\"xtick_4\">\n     <g id=\"line2d_7\">\n      <path d=\"M 201.32358 145.8 \nL 201.32358 7.2 \n\" clip-path=\"url(#pc990685add)\" style=\"fill: none; stroke: #b0b0b0; stroke-width: 0.8; stroke-linecap: square\"/>\n     </g>\n     <g id=\"line2d_8\">\n      <g>\n       <use xlink:href=\"#mb0ae8f4fc9\" x=\"201.32358\" y=\"145.8\" style=\"stroke: #000000; stroke-width: 0.8\"/>\n      </g>\n     </g>\n     <g id=\"text_4\">\n      <!-- 80 -->\n      <g transform=\"translate(194.96108 160.398438) scale(0.1 -0.1)\">\n       <defs>\n        <path id=\"DejaVuSans-38\" d=\"M 2034 2216 \nQ 1584 2216 1326 1975 \nQ 1069 1734 1069 1313 \nQ 1069 891 1326 650 \nQ 1584 409 2034 409 \nQ 2484 409 2743 651 \nQ 3003 894 3003 1313 \nQ 3003 1734 2745 1975 \nQ 2488 2216 2034 2216 \nz\nM 1403 2484 \nQ 997 2584 770 2862 \nQ 544 3141 544 3541 \nQ 544 4100 942 4425 \nQ 1341 4750 2034 4750 \nQ 2731 4750 3128 4425 \nQ 3525 4100 3525 3541 \nQ 3525 3141 3298 2862 \nQ 3072 2584 2669 2484 \nQ 3125 2378 3379 2068 \nQ 3634 1759 3634 1313 \nQ 3634 634 3220 271 \nQ 2806 -91 2034 -91 \nQ 1263 -91 848 271 \nQ 434 634 434 1313 \nQ 434 1759 690 2068 \nQ 947 2378 1403 2484 \nz\nM 1172 3481 \nQ 1172 3119 1398 2916 \nQ 1625 2713 2034 2713 \nQ 2441 2713 2670 2916 \nQ 2900 3119 2900 3481 \nQ 2900 3844 2670 4047 \nQ 2441 4250 2034 4250 \nQ 1625 4250 1398 4047 \nQ 1172 3844 1172 3481 \nz\n\" transform=\"scale(0.015625)\"/>\n       </defs>\n       <use xlink:href=\"#DejaVuSans-38\"/>\n       <use xlink:href=\"#DejaVuSans-30\" transform=\"translate(63.623047 0)\"/>\n      </g>\n     </g>\n    </g>\n    <g id=\"xtick_5\">\n     <g id=\"line2d_9\">\n      <path d=\"M 240.778125 145.8 \nL 240.778125 7.2 \n\" clip-path=\"url(#pc990685add)\" style=\"fill: none; stroke: #b0b0b0; stroke-width: 0.8; stroke-linecap: square\"/>\n     </g>\n     <g id=\"line2d_10\">\n      <g>\n       <use xlink:href=\"#mb0ae8f4fc9\" x=\"240.778125\" y=\"145.8\" style=\"stroke: #000000; stroke-width: 0.8\"/>\n      </g>\n     </g>\n     <g id=\"text_5\">\n      <!-- 100 -->\n      <g transform=\"translate(231.234375 160.398438) scale(0.1 -0.1)\">\n       <defs>\n        <path id=\"DejaVuSans-31\" d=\"M 794 531 \nL 1825 531 \nL 1825 4091 \nL 703 3866 \nL 703 4441 \nL 1819 4666 \nL 2450 4666 \nL 2450 531 \nL 3481 531 \nL 3481 0 \nL 794 0 \nL 794 531 \nz\n\" transform=\"scale(0.015625)\"/>\n       </defs>\n       <use xlink:href=\"#DejaVuSans-31\"/>\n       <use xlink:href=\"#DejaVuSans-30\" transform=\"translate(63.623047 0)\"/>\n       <use xlink:href=\"#DejaVuSans-30\" transform=\"translate(127.246094 0)\"/>\n      </g>\n     </g>\n    </g>\n    <g id=\"text_6\">\n     <!-- epoch -->\n     <g transform=\"translate(127.9 174.076563) scale(0.1 -0.1)\">\n      <defs>\n       <path id=\"DejaVuSans-65\" d=\"M 3597 1894 \nL 3597 1613 \nL 953 1613 \nQ 991 1019 1311 708 \nQ 1631 397 2203 397 \nQ 2534 397 2845 478 \nQ 3156 559 3463 722 \nL 3463 178 \nQ 3153 47 2828 -22 \nQ 2503 -91 2169 -91 \nQ 1331 -91 842 396 \nQ 353 884 353 1716 \nQ 353 2575 817 3079 \nQ 1281 3584 2069 3584 \nQ 2775 3584 3186 3129 \nQ 3597 2675 3597 1894 \nz\nM 3022 2063 \nQ 3016 2534 2758 2815 \nQ 2500 3097 2075 3097 \nQ 1594 3097 1305 2825 \nQ 1016 2553 972 2059 \nL 3022 2063 \nz\n\" transform=\"scale(0.015625)\"/>\n       <path id=\"DejaVuSans-70\" d=\"M 1159 525 \nL 1159 -1331 \nL 581 -1331 \nL 581 3500 \nL 1159 3500 \nL 1159 2969 \nQ 1341 3281 1617 3432 \nQ 1894 3584 2278 3584 \nQ 2916 3584 3314 3078 \nQ 3713 2572 3713 1747 \nQ 3713 922 3314 415 \nQ 2916 -91 2278 -91 \nQ 1894 -91 1617 61 \nQ 1341 213 1159 525 \nz\nM 3116 1747 \nQ 3116 2381 2855 2742 \nQ 2594 3103 2138 3103 \nQ 1681 3103 1420 2742 \nQ 1159 2381 1159 1747 \nQ 1159 1113 1420 752 \nQ 1681 391 2138 391 \nQ 2594 391 2855 752 \nQ 3116 1113 3116 1747 \nz\n\" transform=\"scale(0.015625)\"/>\n       <path id=\"DejaVuSans-6f\" d=\"M 1959 3097 \nQ 1497 3097 1228 2736 \nQ 959 2375 959 1747 \nQ 959 1119 1226 758 \nQ 1494 397 1959 397 \nQ 2419 397 2687 759 \nQ 2956 1122 2956 1747 \nQ 2956 2369 2687 2733 \nQ 2419 3097 1959 3097 \nz\nM 1959 3584 \nQ 2709 3584 3137 3096 \nQ 3566 2609 3566 1747 \nQ 3566 888 3137 398 \nQ 2709 -91 1959 -91 \nQ 1206 -91 779 398 \nQ 353 888 353 1747 \nQ 353 2609 779 3096 \nQ 1206 3584 1959 3584 \nz\n\" transform=\"scale(0.015625)\"/>\n       <path id=\"DejaVuSans-63\" d=\"M 3122 3366 \nL 3122 2828 \nQ 2878 2963 2633 3030 \nQ 2388 3097 2138 3097 \nQ 1578 3097 1268 2742 \nQ 959 2388 959 1747 \nQ 959 1106 1268 751 \nQ 1578 397 2138 397 \nQ 2388 397 2633 464 \nQ 2878 531 3122 666 \nL 3122 134 \nQ 2881 22 2623 -34 \nQ 2366 -91 2075 -91 \nQ 1284 -91 818 406 \nQ 353 903 353 1747 \nQ 353 2603 823 3093 \nQ 1294 3584 2113 3584 \nQ 2378 3584 2631 3529 \nQ 2884 3475 3122 3366 \nz\n\" transform=\"scale(0.015625)\"/>\n       <path id=\"DejaVuSans-68\" d=\"M 3513 2113 \nL 3513 0 \nL 2938 0 \nL 2938 2094 \nQ 2938 2591 2744 2837 \nQ 2550 3084 2163 3084 \nQ 1697 3084 1428 2787 \nQ 1159 2491 1159 1978 \nL 1159 0 \nL 581 0 \nL 581 4863 \nL 1159 4863 \nL 1159 2956 \nQ 1366 3272 1645 3428 \nQ 1925 3584 2291 3584 \nQ 2894 3584 3203 3211 \nQ 3513 2838 3513 2113 \nz\n\" transform=\"scale(0.015625)\"/>\n      </defs>\n      <use xlink:href=\"#DejaVuSans-65\"/>\n      <use xlink:href=\"#DejaVuSans-70\" transform=\"translate(61.523438 0)\"/>\n      <use xlink:href=\"#DejaVuSans-6f\" transform=\"translate(125 0)\"/>\n      <use xlink:href=\"#DejaVuSans-63\" transform=\"translate(186.181641 0)\"/>\n      <use xlink:href=\"#DejaVuSans-68\" transform=\"translate(241.162109 0)\"/>\n     </g>\n    </g>\n   </g>\n   <g id=\"matplotlib.axis_2\">\n    <g id=\"ytick_1\">\n     <g id=\"line2d_11\">\n      <path d=\"M 45.478125 65.911586 \nL 240.778125 65.911586 \n\" clip-path=\"url(#pc990685add)\" style=\"fill: none; stroke: #b0b0b0; stroke-width: 0.8; stroke-linecap: square\"/>\n     </g>\n     <g id=\"line2d_12\">\n      <defs>\n       <path id=\"m85f9634d89\" d=\"M 0 0 \nL -3.5 0 \n\" style=\"stroke: #000000; stroke-width: 0.8\"/>\n      </defs>\n      <g>\n       <use xlink:href=\"#m85f9634d89\" x=\"45.478125\" y=\"65.911586\" style=\"stroke: #000000; stroke-width: 0.8\"/>\n      </g>\n     </g>\n     <g id=\"text_7\">\n      <!-- $\\mathdefault{10^{0}}$ -->\n      <g transform=\"translate(20.878125 69.710804) scale(0.1 -0.1)\">\n       <use xlink:href=\"#DejaVuSans-31\" transform=\"translate(0 0.765625)\"/>\n       <use xlink:href=\"#DejaVuSans-30\" transform=\"translate(63.623047 0.765625)\"/>\n       <use xlink:href=\"#DejaVuSans-30\" transform=\"translate(128.203125 39.046875) scale(0.7)\"/>\n      </g>\n     </g>\n    </g>\n    <g id=\"ytick_2\">\n     <g id=\"line2d_13\">\n      <defs>\n       <path id=\"mb7accd3827\" d=\"M 0 0 \nL -2 0 \n\" style=\"stroke: #000000; stroke-width: 0.6\"/>\n      </defs>\n      <g>\n       <use xlink:href=\"#mb7accd3827\" x=\"45.478125\" y=\"129.713007\" style=\"stroke: #000000; stroke-width: 0.6\"/>\n      </g>\n     </g>\n    </g>\n    <g id=\"ytick_3\">\n     <g id=\"line2d_14\">\n      <g>\n       <use xlink:href=\"#mb7accd3827\" x=\"45.478125\" y=\"113.639538\" style=\"stroke: #000000; stroke-width: 0.6\"/>\n      </g>\n     </g>\n    </g>\n    <g id=\"ytick_4\">\n     <g id=\"line2d_15\">\n      <g>\n       <use xlink:href=\"#mb7accd3827\" x=\"45.478125\" y=\"102.235231\" style=\"stroke: #000000; stroke-width: 0.6\"/>\n      </g>\n     </g>\n    </g>\n    <g id=\"ytick_5\">\n     <g id=\"line2d_16\">\n      <g>\n       <use xlink:href=\"#mb7accd3827\" x=\"45.478125\" y=\"93.389362\" style=\"stroke: #000000; stroke-width: 0.6\"/>\n      </g>\n     </g>\n    </g>\n    <g id=\"ytick_6\">\n     <g id=\"line2d_17\">\n      <g>\n       <use xlink:href=\"#mb7accd3827\" x=\"45.478125\" y=\"86.161762\" style=\"stroke: #000000; stroke-width: 0.6\"/>\n      </g>\n     </g>\n    </g>\n    <g id=\"ytick_7\">\n     <g id=\"line2d_18\">\n      <g>\n       <use xlink:href=\"#mb7accd3827\" x=\"45.478125\" y=\"80.050912\" style=\"stroke: #000000; stroke-width: 0.6\"/>\n      </g>\n     </g>\n    </g>\n    <g id=\"ytick_8\">\n     <g id=\"line2d_19\">\n      <g>\n       <use xlink:href=\"#mb7accd3827\" x=\"45.478125\" y=\"74.757454\" style=\"stroke: #000000; stroke-width: 0.6\"/>\n      </g>\n     </g>\n    </g>\n    <g id=\"ytick_9\">\n     <g id=\"line2d_20\">\n      <g>\n       <use xlink:href=\"#mb7accd3827\" x=\"45.478125\" y=\"70.088293\" style=\"stroke: #000000; stroke-width: 0.6\"/>\n      </g>\n     </g>\n    </g>\n    <g id=\"ytick_10\">\n     <g id=\"line2d_21\">\n      <g>\n       <use xlink:href=\"#mb7accd3827\" x=\"45.478125\" y=\"38.433809\" style=\"stroke: #000000; stroke-width: 0.6\"/>\n      </g>\n     </g>\n    </g>\n    <g id=\"ytick_11\">\n     <g id=\"line2d_22\">\n      <g>\n       <use xlink:href=\"#mb7accd3827\" x=\"45.478125\" y=\"22.36034\" style=\"stroke: #000000; stroke-width: 0.6\"/>\n      </g>\n     </g>\n    </g>\n    <g id=\"ytick_12\">\n     <g id=\"line2d_23\">\n      <g>\n       <use xlink:href=\"#mb7accd3827\" x=\"45.478125\" y=\"10.956032\" style=\"stroke: #000000; stroke-width: 0.6\"/>\n      </g>\n     </g>\n    </g>\n    <g id=\"text_8\">\n     <!-- rmse -->\n     <g transform=\"translate(14.798437 89.019531) rotate(-90) scale(0.1 -0.1)\">\n      <defs>\n       <path id=\"DejaVuSans-72\" d=\"M 2631 2963 \nQ 2534 3019 2420 3045 \nQ 2306 3072 2169 3072 \nQ 1681 3072 1420 2755 \nQ 1159 2438 1159 1844 \nL 1159 0 \nL 581 0 \nL 581 3500 \nL 1159 3500 \nL 1159 2956 \nQ 1341 3275 1631 3429 \nQ 1922 3584 2338 3584 \nQ 2397 3584 2469 3576 \nQ 2541 3569 2628 3553 \nL 2631 2963 \nz\n\" transform=\"scale(0.015625)\"/>\n       <path id=\"DejaVuSans-6d\" d=\"M 3328 2828 \nQ 3544 3216 3844 3400 \nQ 4144 3584 4550 3584 \nQ 5097 3584 5394 3201 \nQ 5691 2819 5691 2113 \nL 5691 0 \nL 5113 0 \nL 5113 2094 \nQ 5113 2597 4934 2840 \nQ 4756 3084 4391 3084 \nQ 3944 3084 3684 2787 \nQ 3425 2491 3425 1978 \nL 3425 0 \nL 2847 0 \nL 2847 2094 \nQ 2847 2600 2669 2842 \nQ 2491 3084 2119 3084 \nQ 1678 3084 1418 2786 \nQ 1159 2488 1159 1978 \nL 1159 0 \nL 581 0 \nL 581 3500 \nL 1159 3500 \nL 1159 2956 \nQ 1356 3278 1631 3431 \nQ 1906 3584 2284 3584 \nQ 2666 3584 2933 3390 \nQ 3200 3197 3328 2828 \nz\n\" transform=\"scale(0.015625)\"/>\n       <path id=\"DejaVuSans-73\" d=\"M 2834 3397 \nL 2834 2853 \nQ 2591 2978 2328 3040 \nQ 2066 3103 1784 3103 \nQ 1356 3103 1142 2972 \nQ 928 2841 928 2578 \nQ 928 2378 1081 2264 \nQ 1234 2150 1697 2047 \nL 1894 2003 \nQ 2506 1872 2764 1633 \nQ 3022 1394 3022 966 \nQ 3022 478 2636 193 \nQ 2250 -91 1575 -91 \nQ 1294 -91 989 -36 \nQ 684 19 347 128 \nL 347 722 \nQ 666 556 975 473 \nQ 1284 391 1588 391 \nQ 1994 391 2212 530 \nQ 2431 669 2431 922 \nQ 2431 1156 2273 1281 \nQ 2116 1406 1581 1522 \nL 1381 1569 \nQ 847 1681 609 1914 \nQ 372 2147 372 2553 \nQ 372 3047 722 3315 \nQ 1072 3584 1716 3584 \nQ 2034 3584 2315 3537 \nQ 2597 3491 2834 3397 \nz\n\" transform=\"scale(0.015625)\"/>\n      </defs>\n      <use xlink:href=\"#DejaVuSans-72\"/>\n      <use xlink:href=\"#DejaVuSans-6d\" transform=\"translate(39.363281 0)\"/>\n      <use xlink:href=\"#DejaVuSans-73\" transform=\"translate(136.775391 0)\"/>\n      <use xlink:href=\"#DejaVuSans-65\" transform=\"translate(188.875 0)\"/>\n     </g>\n    </g>\n   </g>\n   <g id=\"line2d_24\">\n    <path d=\"M 45.478125 13.66696 \nL 47.450852 21.708705 \nL 49.42358 27.270294 \nL 51.396307 31.729792 \nL 53.369034 35.526362 \nL 55.341761 38.881656 \nL 57.314489 41.959387 \nL 59.287216 44.787828 \nL 61.259943 47.428173 \nL 63.23267 49.92616 \nL 65.205398 52.331446 \nL 67.178125 54.642758 \nL 69.150852 56.856495 \nL 71.12358 59.005485 \nL 73.096307 61.110061 \nL 75.069034 63.153701 \nL 77.041761 65.155912 \nL 79.014489 67.116188 \nL 80.987216 69.043976 \nL 82.959943 70.922165 \nL 84.93267 72.771752 \nL 86.905398 74.607378 \nL 88.878125 76.440497 \nL 90.850852 78.216781 \nL 92.82358 79.992974 \nL 94.796307 81.742729 \nL 96.769034 83.466562 \nL 98.741761 85.191983 \nL 100.714489 86.892675 \nL 102.687216 88.589948 \nL 104.659943 90.2654 \nL 106.63267 91.937924 \nL 108.605398 93.561399 \nL 110.578125 95.181029 \nL 112.550852 96.781493 \nL 114.52358 98.38009 \nL 116.496307 99.962665 \nL 118.469034 101.507428 \nL 120.441761 103.045238 \nL 122.414489 104.54899 \nL 124.387216 106.022892 \nL 126.359943 107.511809 \nL 128.33267 108.983159 \nL 130.305398 110.422656 \nL 132.278125 111.77423 \nL 134.250852 113.106331 \nL 136.22358 114.446717 \nL 138.196307 115.737577 \nL 140.169034 116.971578 \nL 142.141761 118.162407 \nL 144.114489 119.351102 \nL 146.087216 120.469431 \nL 148.059943 121.553844 \nL 150.03267 122.573285 \nL 152.005398 123.575332 \nL 153.978125 124.499222 \nL 155.950852 125.404831 \nL 157.92358 126.266105 \nL 159.896307 127.069794 \nL 161.869034 127.836596 \nL 163.841761 128.5623 \nL 165.814489 129.223561 \nL 167.787216 129.829356 \nL 169.759943 130.416101 \nL 171.73267 130.950378 \nL 173.705398 131.457556 \nL 175.678125 131.905041 \nL 177.650852 132.334831 \nL 179.62358 132.710731 \nL 181.596307 133.071259 \nL 183.569034 133.387189 \nL 185.541761 133.665937 \nL 187.514489 133.927122 \nL 189.487216 134.178234 \nL 191.459943 134.392562 \nL 193.43267 134.593897 \nL 195.405398 134.768054 \nL 197.378125 134.922761 \nL 199.350852 135.05679 \nL 201.32358 135.182931 \nL 203.296307 135.296427 \nL 205.269034 135.386681 \nL 207.241761 135.467926 \nL 209.214489 135.54139 \nL 211.187216 135.605168 \nL 213.159943 135.670791 \nL 215.13267 135.716261 \nL 217.105398 135.757142 \nL 219.078125 135.788314 \nL 221.050852 135.810574 \nL 223.02358 135.821364 \nL 224.996307 135.845122 \nL 226.969034 135.867238 \nL 228.941761 135.87025 \nL 230.914489 135.871364 \nL 232.887216 135.91311 \nL 234.859943 135.912757 \nL 236.83267 135.908762 \nL 238.805398 135.890347 \nL 240.778125 135.905806 \n\" clip-path=\"url(#pc990685add)\" style=\"fill: none; stroke: #1f77b4; stroke-width: 1.5; stroke-linecap: square\"/>\n   </g>\n   <g id=\"line2d_25\">\n    <path d=\"M 45.478125 13.5 \nL 47.450852 21.520007 \nL 49.42358 27.059893 \nL 51.396307 31.504625 \nL 53.369034 35.283021 \nL 55.341761 38.620872 \nL 57.314489 41.682074 \nL 59.287216 44.500171 \nL 61.259943 47.125076 \nL 63.23267 49.610645 \nL 65.205398 52.001638 \nL 67.178125 54.297424 \nL 69.150852 56.495831 \nL 71.12358 58.629746 \nL 73.096307 60.723252 \nL 75.069034 62.754121 \nL 77.041761 64.745014 \nL 79.014489 66.695393 \nL 80.987216 68.610669 \nL 82.959943 70.477914 \nL 84.93267 72.316328 \nL 86.905398 74.143921 \nL 88.878125 75.969267 \nL 90.850852 77.74245 \nL 92.82358 79.510087 \nL 94.796307 81.252882 \nL 96.769034 82.978085 \nL 98.741761 84.704077 \nL 100.714489 86.404711 \nL 102.687216 88.101613 \nL 104.659943 89.78025 \nL 106.63267 91.458359 \nL 108.605398 93.092943 \nL 110.578125 94.72719 \nL 112.550852 96.344539 \nL 114.52358 97.965736 \nL 116.496307 99.572524 \nL 118.469034 101.146156 \nL 120.441761 102.717198 \nL 122.414489 104.255575 \nL 124.387216 105.771408 \nL 126.359943 107.308017 \nL 128.33267 108.829912 \nL 130.305398 110.329424 \nL 132.278125 111.743997 \nL 134.250852 113.148833 \nL 136.22358 114.567332 \nL 138.196307 115.932841 \nL 140.169034 117.256892 \nL 142.141761 118.540541 \nL 144.114489 119.829378 \nL 146.087216 121.052099 \nL 148.059943 122.24806 \nL 150.03267 123.382304 \nL 152.005398 124.502894 \nL 153.978125 125.545296 \nL 155.950852 126.573954 \nL 157.92358 127.564162 \nL 159.896307 128.501741 \nL 161.869034 129.394018 \nL 163.841761 130.249637 \nL 165.814489 131.033733 \nL 167.787216 131.765358 \nL 169.759943 132.478588 \nL 171.73267 133.134632 \nL 173.705398 133.759272 \nL 175.678125 134.321053 \nL 177.650852 134.860018 \nL 179.62358 135.332959 \nL 181.596307 135.79353 \nL 183.569034 136.199585 \nL 185.541761 136.559338 \nL 187.514489 136.904344 \nL 189.487216 137.233304 \nL 191.459943 137.51449 \nL 193.43267 137.779508 \nL 195.405398 138.01495 \nL 197.378125 138.218983 \nL 199.350852 138.394593 \nL 201.32358 138.563303 \nL 203.296307 138.720281 \nL 205.269034 138.833778 \nL 207.241761 138.941837 \nL 209.214489 139.033583 \nL 211.187216 139.107521 \nL 213.159943 139.197173 \nL 215.13267 139.259548 \nL 217.105398 139.305224 \nL 219.078125 139.360566 \nL 221.050852 139.39636 \nL 223.02358 139.414506 \nL 224.996307 139.450131 \nL 226.969034 139.474527 \nL 228.941761 139.467885 \nL 230.914489 139.474383 \nL 232.887216 139.499244 \nL 234.859943 139.5 \nL 236.83267 139.497384 \nL 238.805398 139.480202 \nL 240.778125 139.490992 \n\" clip-path=\"url(#pc990685add)\" style=\"fill: none; stroke-dasharray: 5.55,2.4; stroke-dashoffset: 0; stroke: #bf00bf; stroke-width: 1.5\"/>\n   </g>\n   <g id=\"patch_3\">\n    <path d=\"M 45.478125 145.8 \nL 45.478125 7.2 \n\" style=\"fill: none; stroke: #000000; stroke-width: 0.8; stroke-linejoin: miter; stroke-linecap: square\"/>\n   </g>\n   <g id=\"patch_4\">\n    <path d=\"M 240.778125 145.8 \nL 240.778125 7.2 \n\" style=\"fill: none; stroke: #000000; stroke-width: 0.8; stroke-linejoin: miter; stroke-linecap: square\"/>\n   </g>\n   <g id=\"patch_5\">\n    <path d=\"M 45.478125 145.8 \nL 240.778125 145.8 \n\" style=\"fill: none; stroke: #000000; stroke-width: 0.8; stroke-linejoin: miter; stroke-linecap: square\"/>\n   </g>\n   <g id=\"patch_6\">\n    <path d=\"M 45.478125 7.2 \nL 240.778125 7.2 \n\" style=\"fill: none; stroke: #000000; stroke-width: 0.8; stroke-linejoin: miter; stroke-linecap: square\"/>\n   </g>\n   <g id=\"legend_1\">\n    <g id=\"patch_7\">\n     <path d=\"M 177.826562 44.55625 \nL 233.778125 44.55625 \nQ 235.778125 44.55625 235.778125 42.55625 \nL 235.778125 14.2 \nQ 235.778125 12.2 233.778125 12.2 \nL 177.826562 12.2 \nQ 175.826562 12.2 175.826562 14.2 \nL 175.826562 42.55625 \nQ 175.826562 44.55625 177.826562 44.55625 \nz\n\" style=\"fill: #ffffff; opacity: 0.8; stroke: #cccccc; stroke-linejoin: miter\"/>\n    </g>\n    <g id=\"line2d_26\">\n     <path d=\"M 179.826562 20.298438 \nL 189.826562 20.298438 \nL 199.826562 20.298438 \n\" style=\"fill: none; stroke: #1f77b4; stroke-width: 1.5; stroke-linecap: square\"/>\n    </g>\n    <g id=\"text_9\">\n     <!-- train -->\n     <g transform=\"translate(207.826562 23.798438) scale(0.1 -0.1)\">\n      <defs>\n       <path id=\"DejaVuSans-74\" d=\"M 1172 4494 \nL 1172 3500 \nL 2356 3500 \nL 2356 3053 \nL 1172 3053 \nL 1172 1153 \nQ 1172 725 1289 603 \nQ 1406 481 1766 481 \nL 2356 481 \nL 2356 0 \nL 1766 0 \nQ 1100 0 847 248 \nQ 594 497 594 1153 \nL 594 3053 \nL 172 3053 \nL 172 3500 \nL 594 3500 \nL 594 4494 \nL 1172 4494 \nz\n\" transform=\"scale(0.015625)\"/>\n       <path id=\"DejaVuSans-61\" d=\"M 2194 1759 \nQ 1497 1759 1228 1600 \nQ 959 1441 959 1056 \nQ 959 750 1161 570 \nQ 1363 391 1709 391 \nQ 2188 391 2477 730 \nQ 2766 1069 2766 1631 \nL 2766 1759 \nL 2194 1759 \nz\nM 3341 1997 \nL 3341 0 \nL 2766 0 \nL 2766 531 \nQ 2569 213 2275 61 \nQ 1981 -91 1556 -91 \nQ 1019 -91 701 211 \nQ 384 513 384 1019 \nQ 384 1609 779 1909 \nQ 1175 2209 1959 2209 \nL 2766 2209 \nL 2766 2266 \nQ 2766 2663 2505 2880 \nQ 2244 3097 1772 3097 \nQ 1472 3097 1187 3025 \nQ 903 2953 641 2809 \nL 641 3341 \nQ 956 3463 1253 3523 \nQ 1550 3584 1831 3584 \nQ 2591 3584 2966 3190 \nQ 3341 2797 3341 1997 \nz\n\" transform=\"scale(0.015625)\"/>\n       <path id=\"DejaVuSans-69\" d=\"M 603 3500 \nL 1178 3500 \nL 1178 0 \nL 603 0 \nL 603 3500 \nz\nM 603 4863 \nL 1178 4863 \nL 1178 4134 \nL 603 4134 \nL 603 4863 \nz\n\" transform=\"scale(0.015625)\"/>\n       <path id=\"DejaVuSans-6e\" d=\"M 3513 2113 \nL 3513 0 \nL 2938 0 \nL 2938 2094 \nQ 2938 2591 2744 2837 \nQ 2550 3084 2163 3084 \nQ 1697 3084 1428 2787 \nQ 1159 2491 1159 1978 \nL 1159 0 \nL 581 0 \nL 581 3500 \nL 1159 3500 \nL 1159 2956 \nQ 1366 3272 1645 3428 \nQ 1925 3584 2291 3584 \nQ 2894 3584 3203 3211 \nQ 3513 2838 3513 2113 \nz\n\" transform=\"scale(0.015625)\"/>\n      </defs>\n      <use xlink:href=\"#DejaVuSans-74\"/>\n      <use xlink:href=\"#DejaVuSans-72\" transform=\"translate(39.208984 0)\"/>\n      <use xlink:href=\"#DejaVuSans-61\" transform=\"translate(80.322266 0)\"/>\n      <use xlink:href=\"#DejaVuSans-69\" transform=\"translate(141.601562 0)\"/>\n      <use xlink:href=\"#DejaVuSans-6e\" transform=\"translate(169.384766 0)\"/>\n     </g>\n    </g>\n    <g id=\"line2d_27\">\n     <path d=\"M 179.826562 34.976562 \nL 189.826562 34.976562 \nL 199.826562 34.976562 \n\" style=\"fill: none; stroke-dasharray: 5.55,2.4; stroke-dashoffset: 0; stroke: #bf00bf; stroke-width: 1.5\"/>\n    </g>\n    <g id=\"text_10\">\n     <!-- valid -->\n     <g transform=\"translate(207.826562 38.476562) scale(0.1 -0.1)\">\n      <defs>\n       <path id=\"DejaVuSans-76\" d=\"M 191 3500 \nL 800 3500 \nL 1894 563 \nL 2988 3500 \nL 3597 3500 \nL 2284 0 \nL 1503 0 \nL 191 3500 \nz\n\" transform=\"scale(0.015625)\"/>\n       <path id=\"DejaVuSans-6c\" d=\"M 603 4863 \nL 1178 4863 \nL 1178 0 \nL 603 0 \nL 603 4863 \nz\n\" transform=\"scale(0.015625)\"/>\n       <path id=\"DejaVuSans-64\" d=\"M 2906 2969 \nL 2906 4863 \nL 3481 4863 \nL 3481 0 \nL 2906 0 \nL 2906 525 \nQ 2725 213 2448 61 \nQ 2172 -91 1784 -91 \nQ 1150 -91 751 415 \nQ 353 922 353 1747 \nQ 353 2572 751 3078 \nQ 1150 3584 1784 3584 \nQ 2172 3584 2448 3432 \nQ 2725 3281 2906 2969 \nz\nM 947 1747 \nQ 947 1113 1208 752 \nQ 1469 391 1925 391 \nQ 2381 391 2643 752 \nQ 2906 1113 2906 1747 \nQ 2906 2381 2643 2742 \nQ 2381 3103 1925 3103 \nQ 1469 3103 1208 2742 \nQ 947 2381 947 1747 \nz\n\" transform=\"scale(0.015625)\"/>\n      </defs>\n      <use xlink:href=\"#DejaVuSans-76\"/>\n      <use xlink:href=\"#DejaVuSans-61\" transform=\"translate(59.179688 0)\"/>\n      <use xlink:href=\"#DejaVuSans-6c\" transform=\"translate(120.458984 0)\"/>\n      <use xlink:href=\"#DejaVuSans-69\" transform=\"translate(148.242188 0)\"/>\n      <use xlink:href=\"#DejaVuSans-64\" transform=\"translate(176.025391 0)\"/>\n     </g>\n    </g>\n   </g>\n  </g>\n </g>\n <defs>\n  <clipPath id=\"pc990685add\">\n   <rect x=\"45.478125\" y=\"7.2\" width=\"195.3\" height=\"138.6\"/>\n  </clipPath>\n </defs>\n</svg>\n"
          },
          "metadata": {}
        }
      ],
      "source": [
        "k, num_epochs, lr, weight_decay, batch_size = 5, 100, 5.0, 0, 64\n",
        "train_l, valid_l = k_fold(k, train_features, train_labels, num_epochs, lr,\n",
        "                          weight_decay, batch_size)\n",
        "print(f'{k}-折验证: 平均训练log rmse: {float(train_l):f}, '\n",
        "      f'平均验证log rmse: {float(valid_l):f}')"
      ]
    },
    {
      "cell_type": "markdown",
      "id": "e078dc57",
      "metadata": {
        "origin_pos": 47,
        "id": "e078dc57"
      },
      "source": [
        "请注意，<u>有时一组超参数的训练误差可能非常低，但$K$折交叉验证的误差要高得多，\n",
        "这表明模型过拟合了。</u>\n",
        "在整个训练过程中，我们希望监控训练误差和验证误差这两个数字。\n",
        "较少的过拟合可能表明现有数据可以支撑一个更强大的模型，\n",
        "较大的过拟合可能意味着我们可以通过正则化技术来获益。\n",
        "\n",
        "##  [**提交Kaggle预测**]\n",
        "\n",
        "既然我们知道应该选择什么样的超参数，\n",
        "我们不妨使用所有数据对其进行训练\n",
        "（而不是仅使用交叉验证中使用的$1-1/K$的数据）。\n",
        "然后，我们通过这种方式获得的模型可以应用于测试集。\n",
        "将预测保存在CSV文件中可以简化将结果上传到Kaggle的过程。\n"
      ]
    },
    {
      "cell_type": "code",
      "execution_count": 29,
      "id": "9b9b6502",
      "metadata": {
        "execution": {
          "iopub.execute_input": "2023-08-18T07:29:33.227166Z",
          "iopub.status.busy": "2023-08-18T07:29:33.226582Z",
          "iopub.status.idle": "2023-08-18T07:29:33.232986Z",
          "shell.execute_reply": "2023-08-18T07:29:33.232209Z"
        },
        "origin_pos": 48,
        "tab": [
          "tensorflow"
        ],
        "id": "9b9b6502"
      },
      "outputs": [],
      "source": [
        "def train_and_pred(train_features, test_features, train_labels, test_data,\n",
        "                   num_epochs, lr, weight_decay, batch_size):\n",
        "    net = get_net()\n",
        "    train_ls, _ = train(net, train_features, train_labels, None, None,\n",
        "                        num_epochs, lr, weight_decay, batch_size)\n",
        "    d2l.plot(np.arange(1, num_epochs + 1), [train_ls], xlabel='epoch',\n",
        "             ylabel='log rmse', xlim=[1, num_epochs], yscale='log')\n",
        "    print(f'训练log rmse：{float(train_ls[-1]):f}')\n",
        "    # 将网络应用于测试集。\n",
        "    preds = net(test_features).numpy()\n",
        "    # 将其重新格式化以导出到Kaggle\n",
        "    test_data['SalePrice'] = pd.Series(preds.reshape(1, -1)[0])\n",
        "    submission = pd.concat([test_data['Id'], test_data['SalePrice']], axis=1)\n",
        "    submission.to_csv('submission.csv', index=False)"
      ]
    },
    {
      "cell_type": "markdown",
      "id": "66b728bb",
      "metadata": {
        "origin_pos": 49,
        "id": "66b728bb"
      },
      "source": [
        "如果测试集上的预测与$K$倍交叉验证过程中的预测相似，\n",
        "那就是时候把它们上传到Kaggle了。\n",
        "下面的代码将生成一个名为`submission.csv`的文件。\n"
      ]
    },
    {
      "cell_type": "code",
      "execution_count": 30,
      "id": "990d34d2",
      "metadata": {
        "execution": {
          "iopub.execute_input": "2023-08-18T07:29:33.236561Z",
          "iopub.status.busy": "2023-08-18T07:29:33.236024Z",
          "iopub.status.idle": "2023-08-18T07:29:48.061444Z",
          "shell.execute_reply": "2023-08-18T07:29:48.060428Z"
        },
        "origin_pos": 50,
        "tab": [
          "tensorflow"
        ],
        "id": "990d34d2",
        "outputId": "b24ddc16-2aae-455f-bdf8-c6843bd0cb6c",
        "colab": {
          "base_uri": "https://localhost:8080/",
          "height": 282
        }
      },
      "outputs": [
        {
          "output_type": "stream",
          "name": "stdout",
          "text": [
            "训练log rmse：0.162346\n"
          ]
        },
        {
          "output_type": "display_data",
          "data": {
            "text/plain": [
              "<Figure size 350x250 with 1 Axes>"
            ],
            "image/svg+xml": "<?xml version=\"1.0\" encoding=\"utf-8\" standalone=\"no\"?>\n<!DOCTYPE svg PUBLIC \"-//W3C//DTD SVG 1.1//EN\"\n  \"http://www.w3.org/Graphics/SVG/1.1/DTD/svg11.dtd\">\n<svg xmlns:xlink=\"http://www.w3.org/1999/xlink\" width=\"257.521875pt\" height=\"183.35625pt\" viewBox=\"0 0 257.521875 183.35625\" xmlns=\"http://www.w3.org/2000/svg\" version=\"1.1\">\n <metadata>\n  <rdf:RDF xmlns:dc=\"http://purl.org/dc/elements/1.1/\" xmlns:cc=\"http://creativecommons.org/ns#\" xmlns:rdf=\"http://www.w3.org/1999/02/22-rdf-syntax-ns#\">\n   <cc:Work>\n    <dc:type rdf:resource=\"http://purl.org/dc/dcmitype/StillImage\"/>\n    <dc:date>2025-02-24T06:43:21.222251</dc:date>\n    <dc:format>image/svg+xml</dc:format>\n    <dc:creator>\n     <cc:Agent>\n      <dc:title>Matplotlib v3.10.0, https://matplotlib.org/</dc:title>\n     </cc:Agent>\n    </dc:creator>\n   </cc:Work>\n  </rdf:RDF>\n </metadata>\n <defs>\n  <style type=\"text/css\">*{stroke-linejoin: round; stroke-linecap: butt}</style>\n </defs>\n <g id=\"figure_1\">\n  <g id=\"patch_1\">\n   <path d=\"M 0 183.35625 \nL 257.521875 183.35625 \nL 257.521875 0 \nL 0 0 \nz\n\" style=\"fill: #ffffff\"/>\n  </g>\n  <g id=\"axes_1\">\n   <g id=\"patch_2\">\n    <path d=\"M 45.478125 145.8 \nL 240.778125 145.8 \nL 240.778125 7.2 \nL 45.478125 7.2 \nz\n\" style=\"fill: #ffffff\"/>\n   </g>\n   <g id=\"matplotlib.axis_1\">\n    <g id=\"xtick_1\">\n     <g id=\"line2d_1\">\n      <path d=\"M 82.959943 145.8 \nL 82.959943 7.2 \n\" clip-path=\"url(#p4e2d05a2f2)\" style=\"fill: none; stroke: #b0b0b0; stroke-width: 0.8; stroke-linecap: square\"/>\n     </g>\n     <g id=\"line2d_2\">\n      <defs>\n       <path id=\"mf24da72965\" d=\"M 0 0 \nL 0 3.5 \n\" style=\"stroke: #000000; stroke-width: 0.8\"/>\n      </defs>\n      <g>\n       <use xlink:href=\"#mf24da72965\" x=\"82.959943\" y=\"145.8\" style=\"stroke: #000000; stroke-width: 0.8\"/>\n      </g>\n     </g>\n     <g id=\"text_1\">\n      <!-- 20 -->\n      <g transform=\"translate(76.597443 160.398438) scale(0.1 -0.1)\">\n       <defs>\n        <path id=\"DejaVuSans-32\" d=\"M 1228 531 \nL 3431 531 \nL 3431 0 \nL 469 0 \nL 469 531 \nQ 828 903 1448 1529 \nQ 2069 2156 2228 2338 \nQ 2531 2678 2651 2914 \nQ 2772 3150 2772 3378 \nQ 2772 3750 2511 3984 \nQ 2250 4219 1831 4219 \nQ 1534 4219 1204 4116 \nQ 875 4013 500 3803 \nL 500 4441 \nQ 881 4594 1212 4672 \nQ 1544 4750 1819 4750 \nQ 2544 4750 2975 4387 \nQ 3406 4025 3406 3419 \nQ 3406 3131 3298 2873 \nQ 3191 2616 2906 2266 \nQ 2828 2175 2409 1742 \nQ 1991 1309 1228 531 \nz\n\" transform=\"scale(0.015625)\"/>\n        <path id=\"DejaVuSans-30\" d=\"M 2034 4250 \nQ 1547 4250 1301 3770 \nQ 1056 3291 1056 2328 \nQ 1056 1369 1301 889 \nQ 1547 409 2034 409 \nQ 2525 409 2770 889 \nQ 3016 1369 3016 2328 \nQ 3016 3291 2770 3770 \nQ 2525 4250 2034 4250 \nz\nM 2034 4750 \nQ 2819 4750 3233 4129 \nQ 3647 3509 3647 2328 \nQ 3647 1150 3233 529 \nQ 2819 -91 2034 -91 \nQ 1250 -91 836 529 \nQ 422 1150 422 2328 \nQ 422 3509 836 4129 \nQ 1250 4750 2034 4750 \nz\n\" transform=\"scale(0.015625)\"/>\n       </defs>\n       <use xlink:href=\"#DejaVuSans-32\"/>\n       <use xlink:href=\"#DejaVuSans-30\" transform=\"translate(63.623047 0)\"/>\n      </g>\n     </g>\n    </g>\n    <g id=\"xtick_2\">\n     <g id=\"line2d_3\">\n      <path d=\"M 122.414489 145.8 \nL 122.414489 7.2 \n\" clip-path=\"url(#p4e2d05a2f2)\" style=\"fill: none; stroke: #b0b0b0; stroke-width: 0.8; stroke-linecap: square\"/>\n     </g>\n     <g id=\"line2d_4\">\n      <g>\n       <use xlink:href=\"#mf24da72965\" x=\"122.414489\" y=\"145.8\" style=\"stroke: #000000; stroke-width: 0.8\"/>\n      </g>\n     </g>\n     <g id=\"text_2\">\n      <!-- 40 -->\n      <g transform=\"translate(116.051989 160.398438) scale(0.1 -0.1)\">\n       <defs>\n        <path id=\"DejaVuSans-34\" d=\"M 2419 4116 \nL 825 1625 \nL 2419 1625 \nL 2419 4116 \nz\nM 2253 4666 \nL 3047 4666 \nL 3047 1625 \nL 3713 1625 \nL 3713 1100 \nL 3047 1100 \nL 3047 0 \nL 2419 0 \nL 2419 1100 \nL 313 1100 \nL 313 1709 \nL 2253 4666 \nz\n\" transform=\"scale(0.015625)\"/>\n       </defs>\n       <use xlink:href=\"#DejaVuSans-34\"/>\n       <use xlink:href=\"#DejaVuSans-30\" transform=\"translate(63.623047 0)\"/>\n      </g>\n     </g>\n    </g>\n    <g id=\"xtick_3\">\n     <g id=\"line2d_5\">\n      <path d=\"M 161.869034 145.8 \nL 161.869034 7.2 \n\" clip-path=\"url(#p4e2d05a2f2)\" style=\"fill: none; stroke: #b0b0b0; stroke-width: 0.8; stroke-linecap: square\"/>\n     </g>\n     <g id=\"line2d_6\">\n      <g>\n       <use xlink:href=\"#mf24da72965\" x=\"161.869034\" y=\"145.8\" style=\"stroke: #000000; stroke-width: 0.8\"/>\n      </g>\n     </g>\n     <g id=\"text_3\">\n      <!-- 60 -->\n      <g transform=\"translate(155.506534 160.398438) scale(0.1 -0.1)\">\n       <defs>\n        <path id=\"DejaVuSans-36\" d=\"M 2113 2584 \nQ 1688 2584 1439 2293 \nQ 1191 2003 1191 1497 \nQ 1191 994 1439 701 \nQ 1688 409 2113 409 \nQ 2538 409 2786 701 \nQ 3034 994 3034 1497 \nQ 3034 2003 2786 2293 \nQ 2538 2584 2113 2584 \nz\nM 3366 4563 \nL 3366 3988 \nQ 3128 4100 2886 4159 \nQ 2644 4219 2406 4219 \nQ 1781 4219 1451 3797 \nQ 1122 3375 1075 2522 \nQ 1259 2794 1537 2939 \nQ 1816 3084 2150 3084 \nQ 2853 3084 3261 2657 \nQ 3669 2231 3669 1497 \nQ 3669 778 3244 343 \nQ 2819 -91 2113 -91 \nQ 1303 -91 875 529 \nQ 447 1150 447 2328 \nQ 447 3434 972 4092 \nQ 1497 4750 2381 4750 \nQ 2619 4750 2861 4703 \nQ 3103 4656 3366 4563 \nz\n\" transform=\"scale(0.015625)\"/>\n       </defs>\n       <use xlink:href=\"#DejaVuSans-36\"/>\n       <use xlink:href=\"#DejaVuSans-30\" transform=\"translate(63.623047 0)\"/>\n      </g>\n     </g>\n    </g>\n    <g id=\"xtick_4\">\n     <g id=\"line2d_7\">\n      <path d=\"M 201.32358 145.8 \nL 201.32358 7.2 \n\" clip-path=\"url(#p4e2d05a2f2)\" style=\"fill: none; stroke: #b0b0b0; stroke-width: 0.8; stroke-linecap: square\"/>\n     </g>\n     <g id=\"line2d_8\">\n      <g>\n       <use xlink:href=\"#mf24da72965\" x=\"201.32358\" y=\"145.8\" style=\"stroke: #000000; stroke-width: 0.8\"/>\n      </g>\n     </g>\n     <g id=\"text_4\">\n      <!-- 80 -->\n      <g transform=\"translate(194.96108 160.398438) scale(0.1 -0.1)\">\n       <defs>\n        <path id=\"DejaVuSans-38\" d=\"M 2034 2216 \nQ 1584 2216 1326 1975 \nQ 1069 1734 1069 1313 \nQ 1069 891 1326 650 \nQ 1584 409 2034 409 \nQ 2484 409 2743 651 \nQ 3003 894 3003 1313 \nQ 3003 1734 2745 1975 \nQ 2488 2216 2034 2216 \nz\nM 1403 2484 \nQ 997 2584 770 2862 \nQ 544 3141 544 3541 \nQ 544 4100 942 4425 \nQ 1341 4750 2034 4750 \nQ 2731 4750 3128 4425 \nQ 3525 4100 3525 3541 \nQ 3525 3141 3298 2862 \nQ 3072 2584 2669 2484 \nQ 3125 2378 3379 2068 \nQ 3634 1759 3634 1313 \nQ 3634 634 3220 271 \nQ 2806 -91 2034 -91 \nQ 1263 -91 848 271 \nQ 434 634 434 1313 \nQ 434 1759 690 2068 \nQ 947 2378 1403 2484 \nz\nM 1172 3481 \nQ 1172 3119 1398 2916 \nQ 1625 2713 2034 2713 \nQ 2441 2713 2670 2916 \nQ 2900 3119 2900 3481 \nQ 2900 3844 2670 4047 \nQ 2441 4250 2034 4250 \nQ 1625 4250 1398 4047 \nQ 1172 3844 1172 3481 \nz\n\" transform=\"scale(0.015625)\"/>\n       </defs>\n       <use xlink:href=\"#DejaVuSans-38\"/>\n       <use xlink:href=\"#DejaVuSans-30\" transform=\"translate(63.623047 0)\"/>\n      </g>\n     </g>\n    </g>\n    <g id=\"xtick_5\">\n     <g id=\"line2d_9\">\n      <path d=\"M 240.778125 145.8 \nL 240.778125 7.2 \n\" clip-path=\"url(#p4e2d05a2f2)\" style=\"fill: none; stroke: #b0b0b0; stroke-width: 0.8; stroke-linecap: square\"/>\n     </g>\n     <g id=\"line2d_10\">\n      <g>\n       <use xlink:href=\"#mf24da72965\" x=\"240.778125\" y=\"145.8\" style=\"stroke: #000000; stroke-width: 0.8\"/>\n      </g>\n     </g>\n     <g id=\"text_5\">\n      <!-- 100 -->\n      <g transform=\"translate(231.234375 160.398438) scale(0.1 -0.1)\">\n       <defs>\n        <path id=\"DejaVuSans-31\" d=\"M 794 531 \nL 1825 531 \nL 1825 4091 \nL 703 3866 \nL 703 4441 \nL 1819 4666 \nL 2450 4666 \nL 2450 531 \nL 3481 531 \nL 3481 0 \nL 794 0 \nL 794 531 \nz\n\" transform=\"scale(0.015625)\"/>\n       </defs>\n       <use xlink:href=\"#DejaVuSans-31\"/>\n       <use xlink:href=\"#DejaVuSans-30\" transform=\"translate(63.623047 0)\"/>\n       <use xlink:href=\"#DejaVuSans-30\" transform=\"translate(127.246094 0)\"/>\n      </g>\n     </g>\n    </g>\n    <g id=\"text_6\">\n     <!-- epoch -->\n     <g transform=\"translate(127.9 174.076563) scale(0.1 -0.1)\">\n      <defs>\n       <path id=\"DejaVuSans-65\" d=\"M 3597 1894 \nL 3597 1613 \nL 953 1613 \nQ 991 1019 1311 708 \nQ 1631 397 2203 397 \nQ 2534 397 2845 478 \nQ 3156 559 3463 722 \nL 3463 178 \nQ 3153 47 2828 -22 \nQ 2503 -91 2169 -91 \nQ 1331 -91 842 396 \nQ 353 884 353 1716 \nQ 353 2575 817 3079 \nQ 1281 3584 2069 3584 \nQ 2775 3584 3186 3129 \nQ 3597 2675 3597 1894 \nz\nM 3022 2063 \nQ 3016 2534 2758 2815 \nQ 2500 3097 2075 3097 \nQ 1594 3097 1305 2825 \nQ 1016 2553 972 2059 \nL 3022 2063 \nz\n\" transform=\"scale(0.015625)\"/>\n       <path id=\"DejaVuSans-70\" d=\"M 1159 525 \nL 1159 -1331 \nL 581 -1331 \nL 581 3500 \nL 1159 3500 \nL 1159 2969 \nQ 1341 3281 1617 3432 \nQ 1894 3584 2278 3584 \nQ 2916 3584 3314 3078 \nQ 3713 2572 3713 1747 \nQ 3713 922 3314 415 \nQ 2916 -91 2278 -91 \nQ 1894 -91 1617 61 \nQ 1341 213 1159 525 \nz\nM 3116 1747 \nQ 3116 2381 2855 2742 \nQ 2594 3103 2138 3103 \nQ 1681 3103 1420 2742 \nQ 1159 2381 1159 1747 \nQ 1159 1113 1420 752 \nQ 1681 391 2138 391 \nQ 2594 391 2855 752 \nQ 3116 1113 3116 1747 \nz\n\" transform=\"scale(0.015625)\"/>\n       <path id=\"DejaVuSans-6f\" d=\"M 1959 3097 \nQ 1497 3097 1228 2736 \nQ 959 2375 959 1747 \nQ 959 1119 1226 758 \nQ 1494 397 1959 397 \nQ 2419 397 2687 759 \nQ 2956 1122 2956 1747 \nQ 2956 2369 2687 2733 \nQ 2419 3097 1959 3097 \nz\nM 1959 3584 \nQ 2709 3584 3137 3096 \nQ 3566 2609 3566 1747 \nQ 3566 888 3137 398 \nQ 2709 -91 1959 -91 \nQ 1206 -91 779 398 \nQ 353 888 353 1747 \nQ 353 2609 779 3096 \nQ 1206 3584 1959 3584 \nz\n\" transform=\"scale(0.015625)\"/>\n       <path id=\"DejaVuSans-63\" d=\"M 3122 3366 \nL 3122 2828 \nQ 2878 2963 2633 3030 \nQ 2388 3097 2138 3097 \nQ 1578 3097 1268 2742 \nQ 959 2388 959 1747 \nQ 959 1106 1268 751 \nQ 1578 397 2138 397 \nQ 2388 397 2633 464 \nQ 2878 531 3122 666 \nL 3122 134 \nQ 2881 22 2623 -34 \nQ 2366 -91 2075 -91 \nQ 1284 -91 818 406 \nQ 353 903 353 1747 \nQ 353 2603 823 3093 \nQ 1294 3584 2113 3584 \nQ 2378 3584 2631 3529 \nQ 2884 3475 3122 3366 \nz\n\" transform=\"scale(0.015625)\"/>\n       <path id=\"DejaVuSans-68\" d=\"M 3513 2113 \nL 3513 0 \nL 2938 0 \nL 2938 2094 \nQ 2938 2591 2744 2837 \nQ 2550 3084 2163 3084 \nQ 1697 3084 1428 2787 \nQ 1159 2491 1159 1978 \nL 1159 0 \nL 581 0 \nL 581 4863 \nL 1159 4863 \nL 1159 2956 \nQ 1366 3272 1645 3428 \nQ 1925 3584 2291 3584 \nQ 2894 3584 3203 3211 \nQ 3513 2838 3513 2113 \nz\n\" transform=\"scale(0.015625)\"/>\n      </defs>\n      <use xlink:href=\"#DejaVuSans-65\"/>\n      <use xlink:href=\"#DejaVuSans-70\" transform=\"translate(61.523438 0)\"/>\n      <use xlink:href=\"#DejaVuSans-6f\" transform=\"translate(125 0)\"/>\n      <use xlink:href=\"#DejaVuSans-63\" transform=\"translate(186.181641 0)\"/>\n      <use xlink:href=\"#DejaVuSans-68\" transform=\"translate(241.162109 0)\"/>\n     </g>\n    </g>\n   </g>\n   <g id=\"matplotlib.axis_2\">\n    <g id=\"ytick_1\">\n     <g id=\"line2d_11\">\n      <path d=\"M 45.478125 65.250207 \nL 240.778125 65.250207 \n\" clip-path=\"url(#p4e2d05a2f2)\" style=\"fill: none; stroke: #b0b0b0; stroke-width: 0.8; stroke-linecap: square\"/>\n     </g>\n     <g id=\"line2d_12\">\n      <defs>\n       <path id=\"mc994b61056\" d=\"M 0 0 \nL -3.5 0 \n\" style=\"stroke: #000000; stroke-width: 0.8\"/>\n      </defs>\n      <g>\n       <use xlink:href=\"#mc994b61056\" x=\"45.478125\" y=\"65.250207\" style=\"stroke: #000000; stroke-width: 0.8\"/>\n      </g>\n     </g>\n     <g id=\"text_7\">\n      <!-- $\\mathdefault{10^{0}}$ -->\n      <g transform=\"translate(20.878125 69.049425) scale(0.1 -0.1)\">\n       <use xlink:href=\"#DejaVuSans-31\" transform=\"translate(0 0.765625)\"/>\n       <use xlink:href=\"#DejaVuSans-30\" transform=\"translate(63.623047 0.765625)\"/>\n       <use xlink:href=\"#DejaVuSans-30\" transform=\"translate(128.203125 39.046875) scale(0.7)\"/>\n      </g>\n     </g>\n    </g>\n    <g id=\"ytick_2\">\n     <g id=\"line2d_13\">\n      <defs>\n       <path id=\"me25995479d\" d=\"M 0 0 \nL -2 0 \n\" style=\"stroke: #000000; stroke-width: 0.6\"/>\n      </defs>\n      <g>\n       <use xlink:href=\"#me25995479d\" x=\"45.478125\" y=\"130.981\" style=\"stroke: #000000; stroke-width: 0.6\"/>\n      </g>\n     </g>\n    </g>\n    <g id=\"ytick_3\">\n     <g id=\"line2d_14\">\n      <g>\n       <use xlink:href=\"#me25995479d\" x=\"45.478125\" y=\"114.421465\" style=\"stroke: #000000; stroke-width: 0.6\"/>\n      </g>\n     </g>\n    </g>\n    <g id=\"ytick_4\">\n     <g id=\"line2d_15\">\n      <g>\n       <use xlink:href=\"#me25995479d\" x=\"45.478125\" y=\"102.672288\" style=\"stroke: #000000; stroke-width: 0.6\"/>\n      </g>\n     </g>\n    </g>\n    <g id=\"ytick_5\">\n     <g id=\"line2d_16\">\n      <g>\n       <use xlink:href=\"#me25995479d\" x=\"45.478125\" y=\"93.558919\" style=\"stroke: #000000; stroke-width: 0.6\"/>\n      </g>\n     </g>\n    </g>\n    <g id=\"ytick_6\">\n     <g id=\"line2d_17\">\n      <g>\n       <use xlink:href=\"#me25995479d\" x=\"45.478125\" y=\"86.112753\" style=\"stroke: #000000; stroke-width: 0.6\"/>\n      </g>\n     </g>\n    </g>\n    <g id=\"ytick_7\">\n     <g id=\"line2d_18\">\n      <g>\n       <use xlink:href=\"#me25995479d\" x=\"45.478125\" y=\"79.81711\" style=\"stroke: #000000; stroke-width: 0.6\"/>\n      </g>\n     </g>\n    </g>\n    <g id=\"ytick_8\">\n     <g id=\"line2d_19\">\n      <g>\n       <use xlink:href=\"#me25995479d\" x=\"45.478125\" y=\"74.363576\" style=\"stroke: #000000; stroke-width: 0.6\"/>\n      </g>\n     </g>\n    </g>\n    <g id=\"ytick_9\">\n     <g id=\"line2d_20\">\n      <g>\n       <use xlink:href=\"#me25995479d\" x=\"45.478125\" y=\"69.553218\" style=\"stroke: #000000; stroke-width: 0.6\"/>\n      </g>\n     </g>\n    </g>\n    <g id=\"ytick_10\">\n     <g id=\"line2d_21\">\n      <g>\n       <use xlink:href=\"#me25995479d\" x=\"45.478125\" y=\"36.941495\" style=\"stroke: #000000; stroke-width: 0.6\"/>\n      </g>\n     </g>\n    </g>\n    <g id=\"ytick_11\">\n     <g id=\"line2d_22\">\n      <g>\n       <use xlink:href=\"#me25995479d\" x=\"45.478125\" y=\"20.38196\" style=\"stroke: #000000; stroke-width: 0.6\"/>\n      </g>\n     </g>\n    </g>\n    <g id=\"ytick_12\">\n     <g id=\"line2d_23\">\n      <g>\n       <use xlink:href=\"#me25995479d\" x=\"45.478125\" y=\"8.632783\" style=\"stroke: #000000; stroke-width: 0.6\"/>\n      </g>\n     </g>\n    </g>\n    <g id=\"text_8\">\n     <!-- log rmse -->\n     <g transform=\"translate(14.798438 98.23125) rotate(-90) scale(0.1 -0.1)\">\n      <defs>\n       <path id=\"DejaVuSans-6c\" d=\"M 603 4863 \nL 1178 4863 \nL 1178 0 \nL 603 0 \nL 603 4863 \nz\n\" transform=\"scale(0.015625)\"/>\n       <path id=\"DejaVuSans-67\" d=\"M 2906 1791 \nQ 2906 2416 2648 2759 \nQ 2391 3103 1925 3103 \nQ 1463 3103 1205 2759 \nQ 947 2416 947 1791 \nQ 947 1169 1205 825 \nQ 1463 481 1925 481 \nQ 2391 481 2648 825 \nQ 2906 1169 2906 1791 \nz\nM 3481 434 \nQ 3481 -459 3084 -895 \nQ 2688 -1331 1869 -1331 \nQ 1566 -1331 1297 -1286 \nQ 1028 -1241 775 -1147 \nL 775 -588 \nQ 1028 -725 1275 -790 \nQ 1522 -856 1778 -856 \nQ 2344 -856 2625 -561 \nQ 2906 -266 2906 331 \nL 2906 616 \nQ 2728 306 2450 153 \nQ 2172 0 1784 0 \nQ 1141 0 747 490 \nQ 353 981 353 1791 \nQ 353 2603 747 3093 \nQ 1141 3584 1784 3584 \nQ 2172 3584 2450 3431 \nQ 2728 3278 2906 2969 \nL 2906 3500 \nL 3481 3500 \nL 3481 434 \nz\n\" transform=\"scale(0.015625)\"/>\n       <path id=\"DejaVuSans-20\" transform=\"scale(0.015625)\"/>\n       <path id=\"DejaVuSans-72\" d=\"M 2631 2963 \nQ 2534 3019 2420 3045 \nQ 2306 3072 2169 3072 \nQ 1681 3072 1420 2755 \nQ 1159 2438 1159 1844 \nL 1159 0 \nL 581 0 \nL 581 3500 \nL 1159 3500 \nL 1159 2956 \nQ 1341 3275 1631 3429 \nQ 1922 3584 2338 3584 \nQ 2397 3584 2469 3576 \nQ 2541 3569 2628 3553 \nL 2631 2963 \nz\n\" transform=\"scale(0.015625)\"/>\n       <path id=\"DejaVuSans-6d\" d=\"M 3328 2828 \nQ 3544 3216 3844 3400 \nQ 4144 3584 4550 3584 \nQ 5097 3584 5394 3201 \nQ 5691 2819 5691 2113 \nL 5691 0 \nL 5113 0 \nL 5113 2094 \nQ 5113 2597 4934 2840 \nQ 4756 3084 4391 3084 \nQ 3944 3084 3684 2787 \nQ 3425 2491 3425 1978 \nL 3425 0 \nL 2847 0 \nL 2847 2094 \nQ 2847 2600 2669 2842 \nQ 2491 3084 2119 3084 \nQ 1678 3084 1418 2786 \nQ 1159 2488 1159 1978 \nL 1159 0 \nL 581 0 \nL 581 3500 \nL 1159 3500 \nL 1159 2956 \nQ 1356 3278 1631 3431 \nQ 1906 3584 2284 3584 \nQ 2666 3584 2933 3390 \nQ 3200 3197 3328 2828 \nz\n\" transform=\"scale(0.015625)\"/>\n       <path id=\"DejaVuSans-73\" d=\"M 2834 3397 \nL 2834 2853 \nQ 2591 2978 2328 3040 \nQ 2066 3103 1784 3103 \nQ 1356 3103 1142 2972 \nQ 928 2841 928 2578 \nQ 928 2378 1081 2264 \nQ 1234 2150 1697 2047 \nL 1894 2003 \nQ 2506 1872 2764 1633 \nQ 3022 1394 3022 966 \nQ 3022 478 2636 193 \nQ 2250 -91 1575 -91 \nQ 1294 -91 989 -36 \nQ 684 19 347 128 \nL 347 722 \nQ 666 556 975 473 \nQ 1284 391 1588 391 \nQ 1994 391 2212 530 \nQ 2431 669 2431 922 \nQ 2431 1156 2273 1281 \nQ 2116 1406 1581 1522 \nL 1381 1569 \nQ 847 1681 609 1914 \nQ 372 2147 372 2553 \nQ 372 3047 722 3315 \nQ 1072 3584 1716 3584 \nQ 2034 3584 2315 3537 \nQ 2597 3491 2834 3397 \nz\n\" transform=\"scale(0.015625)\"/>\n      </defs>\n      <use xlink:href=\"#DejaVuSans-6c\"/>\n      <use xlink:href=\"#DejaVuSans-6f\" transform=\"translate(27.783203 0)\"/>\n      <use xlink:href=\"#DejaVuSans-67\" transform=\"translate(88.964844 0)\"/>\n      <use xlink:href=\"#DejaVuSans-20\" transform=\"translate(152.441406 0)\"/>\n      <use xlink:href=\"#DejaVuSans-72\" transform=\"translate(184.228516 0)\"/>\n      <use xlink:href=\"#DejaVuSans-6d\" transform=\"translate(223.591797 0)\"/>\n      <use xlink:href=\"#DejaVuSans-73\" transform=\"translate(321.003906 0)\"/>\n      <use xlink:href=\"#DejaVuSans-65\" transform=\"translate(373.103516 0)\"/>\n     </g>\n    </g>\n   </g>\n   <g id=\"line2d_24\">\n    <path d=\"M 45.478125 13.5 \nL 47.450852 22.280415 \nL 49.42358 28.383923 \nL 51.396307 33.313391 \nL 53.369034 37.531589 \nL 55.341761 41.307038 \nL 57.314489 44.772671 \nL 59.287216 47.986129 \nL 61.259943 51.006898 \nL 63.23267 53.875134 \nL 65.205398 56.631921 \nL 67.178125 59.292999 \nL 69.150852 61.861489 \nL 71.12358 64.372561 \nL 73.096307 66.810868 \nL 75.069034 69.206629 \nL 77.041761 71.542677 \nL 79.014489 73.861772 \nL 80.987216 76.127046 \nL 82.959943 78.371609 \nL 84.93267 80.588056 \nL 86.905398 82.782546 \nL 88.878125 84.938559 \nL 90.850852 87.085552 \nL 92.82358 89.193456 \nL 94.796307 91.280125 \nL 96.769034 93.35765 \nL 98.741761 95.404547 \nL 100.714489 97.432029 \nL 102.687216 99.440952 \nL 104.659943 101.42035 \nL 106.63267 103.365017 \nL 108.605398 105.2487 \nL 110.578125 107.155842 \nL 112.550852 109.001886 \nL 114.52358 110.813316 \nL 116.496307 112.583248 \nL 118.469034 114.304031 \nL 120.441761 115.965443 \nL 122.414489 117.58138 \nL 124.387216 119.128206 \nL 126.359943 120.666599 \nL 128.33267 122.087924 \nL 130.305398 123.475545 \nL 132.278125 124.754216 \nL 134.250852 126.030778 \nL 136.22358 127.167146 \nL 138.196307 128.304356 \nL 140.169034 129.31401 \nL 142.141761 130.256802 \nL 144.114489 131.128431 \nL 146.087216 131.9261 \nL 148.059943 132.651064 \nL 150.03267 133.379501 \nL 152.005398 133.992874 \nL 153.978125 134.547077 \nL 155.950852 135.024387 \nL 157.92358 135.473582 \nL 159.896307 135.881505 \nL 161.869034 136.247377 \nL 163.841761 136.558152 \nL 165.814489 136.849399 \nL 167.787216 137.092584 \nL 169.759943 137.30128 \nL 171.73267 137.499281 \nL 173.705398 137.669035 \nL 175.678125 137.81354 \nL 177.650852 137.942231 \nL 179.62358 138.049801 \nL 181.596307 138.155989 \nL 183.569034 138.235661 \nL 185.541761 138.295672 \nL 187.514489 138.347057 \nL 189.487216 138.402068 \nL 191.459943 138.451695 \nL 193.43267 138.492775 \nL 195.405398 138.520284 \nL 197.378125 138.54665 \nL 199.350852 138.584201 \nL 201.32358 138.602635 \nL 203.296307 138.637074 \nL 205.269034 138.660247 \nL 207.241761 138.662212 \nL 209.214489 138.692782 \nL 211.187216 138.689956 \nL 213.159943 138.750904 \nL 215.13267 138.780933 \nL 217.105398 138.779243 \nL 219.078125 138.813653 \nL 221.050852 138.877496 \nL 223.02358 138.899901 \nL 224.996307 138.938655 \nL 226.969034 138.989464 \nL 228.941761 139.056693 \nL 230.914489 139.110178 \nL 232.887216 139.205417 \nL 234.859943 139.263971 \nL 236.83267 139.304512 \nL 238.805398 139.330886 \nL 240.778125 139.5 \n\" clip-path=\"url(#p4e2d05a2f2)\" style=\"fill: none; stroke: #1f77b4; stroke-width: 1.5; stroke-linecap: square\"/>\n   </g>\n   <g id=\"patch_3\">\n    <path d=\"M 45.478125 145.8 \nL 45.478125 7.2 \n\" style=\"fill: none; stroke: #000000; stroke-width: 0.8; stroke-linejoin: miter; stroke-linecap: square\"/>\n   </g>\n   <g id=\"patch_4\">\n    <path d=\"M 240.778125 145.8 \nL 240.778125 7.2 \n\" style=\"fill: none; stroke: #000000; stroke-width: 0.8; stroke-linejoin: miter; stroke-linecap: square\"/>\n   </g>\n   <g id=\"patch_5\">\n    <path d=\"M 45.478125 145.8 \nL 240.778125 145.8 \n\" style=\"fill: none; stroke: #000000; stroke-width: 0.8; stroke-linejoin: miter; stroke-linecap: square\"/>\n   </g>\n   <g id=\"patch_6\">\n    <path d=\"M 45.478125 7.2 \nL 240.778125 7.2 \n\" style=\"fill: none; stroke: #000000; stroke-width: 0.8; stroke-linejoin: miter; stroke-linecap: square\"/>\n   </g>\n  </g>\n </g>\n <defs>\n  <clipPath id=\"p4e2d05a2f2\">\n   <rect x=\"45.478125\" y=\"7.2\" width=\"195.3\" height=\"138.6\"/>\n  </clipPath>\n </defs>\n</svg>\n"
          },
          "metadata": {}
        }
      ],
      "source": [
        "train_and_pred(train_features, test_features, train_labels, test_data,\n",
        "               num_epochs, lr, weight_decay, batch_size)"
      ]
    },
    {
      "cell_type": "markdown",
      "id": "86a456a1",
      "metadata": {
        "origin_pos": 51,
        "id": "86a456a1"
      },
      "source": [
        "接下来，如 :numref:`fig_kaggle_submit2`中所示，\n",
        "我们可以提交预测到Kaggle上，并查看在测试集上的预测与实际房价（标签）的比较情况。\n",
        "步骤非常简单。\n",
        "\n",
        "* 登录Kaggle网站，访问房价预测竞赛页面。\n",
        "* 点击“Submit Predictions”或“Late Submission”按钮（在撰写本文时，该按钮位于右侧）。\n",
        "* 点击页面底部虚线框中的“Upload Submission File”按钮，选择要上传的预测文件。\n",
        "* 点击页面底部的“Make Submission”按钮，即可查看结果。\n",
        "\n",
        "![向Kaggle提交数据](https://github.com/d2l-ai/d2l-zh-tensorflow-colab/blob/master/img/kaggle-submit2.png?raw=1)\n",
        ":width:`400px`\n",
        ":label:`fig_kaggle_submit2`\n",
        "\n",
        "## 小结\n",
        "\n",
        "* 真实数据通常混合了不同的数据类型，需要进行预处理。\n",
        "* 常用的预处理方法：将实值数据重新缩放为零均值和单位方法；用均值替换缺失值。\n",
        "* 将类别特征转化为指标特征，可以使我们把这个特征当作一个独热向量来对待。\n",
        "* 我们可以使用$K$折交叉验证来选择模型并调整超参数。\n",
        "* 对数对于相对误差很有用。\n",
        "\n",
        "## 练习\n",
        "\n",
        "1. 把预测提交给Kaggle，它有多好？\n",
        "1. 能通过直接最小化价格的对数来改进模型吗？如果试图预测价格的对数而不是价格，会发生什么？\n",
        "1. 用平均值替换缺失值总是好主意吗？提示：能构造一个不随机丢失值的情况吗？\n",
        "1. 通过$K$折交叉验证调整超参数，从而提高Kaggle的得分。\n",
        "1. 通过改进模型（例如，层、权重衰减和dropout）来提高分数。\n",
        "1. 如果我们没有像本节所做的那样标准化连续的数值特征，会发生什么？\n"
      ]
    },
    {
      "cell_type": "markdown",
      "id": "f8ad90a6",
      "metadata": {
        "origin_pos": 54,
        "tab": [
          "tensorflow"
        ],
        "id": "f8ad90a6"
      },
      "source": [
        "[Discussions](https://discuss.d2l.ai/t/1825)\n"
      ]
    }
  ],
  "metadata": {
    "kernelspec": {
      "display_name": "Python 3",
      "name": "python3"
    },
    "language_info": {
      "name": "python"
    },
    "required_libs": [],
    "colab": {
      "provenance": [],
      "include_colab_link": true
    }
  },
  "nbformat": 4,
  "nbformat_minor": 5
}